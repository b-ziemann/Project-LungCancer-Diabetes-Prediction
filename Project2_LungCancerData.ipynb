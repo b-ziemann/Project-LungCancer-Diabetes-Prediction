{
 "cells": [
  {
   "cell_type": "markdown",
   "id": "bba334f4",
   "metadata": {},
   "source": [
    "# Project 2 DAT 402:\n",
    "\n",
    "DAT 402<br>\n",
    "Marko Samara<br>\n",
    "Brenden Ziemann<br>\n"
   ]
  },
  {
   "cell_type": "markdown",
   "id": "902271bd",
   "metadata": {},
   "source": [
    "For my project I looked at lung cancer data and compared lasso/ridge regression to naive bayes. I also did the same thing with diabetes data.\n",
    "\n",
    "## Part 1 of Project: Lasso and Ridge Regression\n",
    "Lasso and Ridge regression analysis is a shrinkage and variable selection method for linear regression models. The goal of lasso regression is to obtain the subset of predictors that minimizes prediction error for a quantitative response variable (like Yes and No, 1 and 0, True and False)\n",
    "\n",
    "This first part looks at Ridge Regression and Lasso Regression. Similar to the lasso regression, ridge regression puts a similar constraint on the coefficients by introducing a penalty factor. However, while lasso regression takes the magnitude of the coefficients, ridge regression takes the square\n",
    "### Part a) Lung Cancer Data Ridge Regression"
   ]
  },
  {
   "cell_type": "markdown",
   "id": "e7cacfc2",
   "metadata": {},
   "source": [
    "Data found from Data World:\n",
    "\n",
    "Found here:\n",
    "https://data.world/sta427ceyin/survey-lung-cancer"
   ]
  },
  {
   "cell_type": "code",
   "execution_count": 1,
   "id": "ea358c5d",
   "metadata": {},
   "outputs": [
    {
     "name": "stderr",
     "output_type": "stream",
     "text": [
      "\n",
      "Attaching package: ‘testthat’\n",
      "\n",
      "\n",
      "The following object is masked from ‘package:tidyr’:\n",
      "\n",
      "    matches\n",
      "\n",
      "\n",
      "Loading required package: Matrix\n",
      "\n",
      "\n",
      "Attaching package: ‘Matrix’\n",
      "\n",
      "\n",
      "The following objects are masked from ‘package:tidyr’:\n",
      "\n",
      "    expand, pack, unpack\n",
      "\n",
      "\n",
      "Loaded glmnet 4.1-3\n",
      "\n",
      "Type 'citation(\"pROC\")' for a citation.\n",
      "\n",
      "\n",
      "Attaching package: ‘pROC’\n",
      "\n",
      "\n",
      "The following objects are masked from ‘package:stats’:\n",
      "\n",
      "    cov, smooth, var\n",
      "\n",
      "\n"
     ]
    },
    {
     "data": {
      "text/html": [
       "<table class=\"dataframe\">\n",
       "<caption>A data.frame: 6 × 16</caption>\n",
       "<thead>\n",
       "\t<tr><th></th><th scope=col>GENDER</th><th scope=col>AGE</th><th scope=col>SMOKING</th><th scope=col>YELLOW_FINGERS</th><th scope=col>ANXIETY</th><th scope=col>PEER_PRESSURE</th><th scope=col>CHRONIC.DISEASE</th><th scope=col>FATIGUE</th><th scope=col>ALLERGY</th><th scope=col>WHEEZING</th><th scope=col>ALCOHOL.CONSUMING</th><th scope=col>COUGHING</th><th scope=col>SHORTNESS.OF.BREATH</th><th scope=col>SWALLOWING.DIFFICULTY</th><th scope=col>CHEST.PAIN</th><th scope=col>LUNG_CANCER</th></tr>\n",
       "\t<tr><th></th><th scope=col>&lt;fct&gt;</th><th scope=col>&lt;int&gt;</th><th scope=col>&lt;int&gt;</th><th scope=col>&lt;int&gt;</th><th scope=col>&lt;int&gt;</th><th scope=col>&lt;int&gt;</th><th scope=col>&lt;int&gt;</th><th scope=col>&lt;int&gt;</th><th scope=col>&lt;int&gt;</th><th scope=col>&lt;int&gt;</th><th scope=col>&lt;int&gt;</th><th scope=col>&lt;int&gt;</th><th scope=col>&lt;int&gt;</th><th scope=col>&lt;int&gt;</th><th scope=col>&lt;int&gt;</th><th scope=col>&lt;fct&gt;</th></tr>\n",
       "</thead>\n",
       "<tbody>\n",
       "\t<tr><th scope=row>1</th><td>M</td><td>69</td><td>1</td><td>2</td><td>2</td><td>1</td><td>1</td><td>2</td><td>1</td><td>2</td><td>2</td><td>2</td><td>2</td><td>2</td><td>2</td><td>YES</td></tr>\n",
       "\t<tr><th scope=row>2</th><td>M</td><td>74</td><td>2</td><td>1</td><td>1</td><td>1</td><td>2</td><td>2</td><td>2</td><td>1</td><td>1</td><td>1</td><td>2</td><td>2</td><td>2</td><td>YES</td></tr>\n",
       "\t<tr><th scope=row>3</th><td>F</td><td>59</td><td>1</td><td>1</td><td>1</td><td>2</td><td>1</td><td>2</td><td>1</td><td>2</td><td>1</td><td>2</td><td>2</td><td>1</td><td>2</td><td>NO </td></tr>\n",
       "\t<tr><th scope=row>4</th><td>M</td><td>63</td><td>2</td><td>2</td><td>2</td><td>1</td><td>1</td><td>1</td><td>1</td><td>1</td><td>2</td><td>1</td><td>1</td><td>2</td><td>2</td><td>NO </td></tr>\n",
       "\t<tr><th scope=row>5</th><td>F</td><td>63</td><td>1</td><td>2</td><td>1</td><td>1</td><td>1</td><td>1</td><td>1</td><td>2</td><td>1</td><td>2</td><td>2</td><td>1</td><td>1</td><td>NO </td></tr>\n",
       "\t<tr><th scope=row>6</th><td>F</td><td>75</td><td>1</td><td>2</td><td>1</td><td>1</td><td>2</td><td>2</td><td>2</td><td>2</td><td>1</td><td>2</td><td>2</td><td>1</td><td>1</td><td>YES</td></tr>\n",
       "</tbody>\n",
       "</table>\n"
      ],
      "text/latex": [
       "A data.frame: 6 × 16\n",
       "\\begin{tabular}{r|llllllllllllllll}\n",
       "  & GENDER & AGE & SMOKING & YELLOW\\_FINGERS & ANXIETY & PEER\\_PRESSURE & CHRONIC.DISEASE & FATIGUE & ALLERGY & WHEEZING & ALCOHOL.CONSUMING & COUGHING & SHORTNESS.OF.BREATH & SWALLOWING.DIFFICULTY & CHEST.PAIN & LUNG\\_CANCER\\\\\n",
       "  & <fct> & <int> & <int> & <int> & <int> & <int> & <int> & <int> & <int> & <int> & <int> & <int> & <int> & <int> & <int> & <fct>\\\\\n",
       "\\hline\n",
       "\t1 & M & 69 & 1 & 2 & 2 & 1 & 1 & 2 & 1 & 2 & 2 & 2 & 2 & 2 & 2 & YES\\\\\n",
       "\t2 & M & 74 & 2 & 1 & 1 & 1 & 2 & 2 & 2 & 1 & 1 & 1 & 2 & 2 & 2 & YES\\\\\n",
       "\t3 & F & 59 & 1 & 1 & 1 & 2 & 1 & 2 & 1 & 2 & 1 & 2 & 2 & 1 & 2 & NO \\\\\n",
       "\t4 & M & 63 & 2 & 2 & 2 & 1 & 1 & 1 & 1 & 1 & 2 & 1 & 1 & 2 & 2 & NO \\\\\n",
       "\t5 & F & 63 & 1 & 2 & 1 & 1 & 1 & 1 & 1 & 2 & 1 & 2 & 2 & 1 & 1 & NO \\\\\n",
       "\t6 & F & 75 & 1 & 2 & 1 & 1 & 2 & 2 & 2 & 2 & 1 & 2 & 2 & 1 & 1 & YES\\\\\n",
       "\\end{tabular}\n"
      ],
      "text/markdown": [
       "\n",
       "A data.frame: 6 × 16\n",
       "\n",
       "| <!--/--> | GENDER &lt;fct&gt; | AGE &lt;int&gt; | SMOKING &lt;int&gt; | YELLOW_FINGERS &lt;int&gt; | ANXIETY &lt;int&gt; | PEER_PRESSURE &lt;int&gt; | CHRONIC.DISEASE &lt;int&gt; | FATIGUE &lt;int&gt; | ALLERGY &lt;int&gt; | WHEEZING &lt;int&gt; | ALCOHOL.CONSUMING &lt;int&gt; | COUGHING &lt;int&gt; | SHORTNESS.OF.BREATH &lt;int&gt; | SWALLOWING.DIFFICULTY &lt;int&gt; | CHEST.PAIN &lt;int&gt; | LUNG_CANCER &lt;fct&gt; |\n",
       "|---|---|---|---|---|---|---|---|---|---|---|---|---|---|---|---|---|\n",
       "| 1 | M | 69 | 1 | 2 | 2 | 1 | 1 | 2 | 1 | 2 | 2 | 2 | 2 | 2 | 2 | YES |\n",
       "| 2 | M | 74 | 2 | 1 | 1 | 1 | 2 | 2 | 2 | 1 | 1 | 1 | 2 | 2 | 2 | YES |\n",
       "| 3 | F | 59 | 1 | 1 | 1 | 2 | 1 | 2 | 1 | 2 | 1 | 2 | 2 | 1 | 2 | NO  |\n",
       "| 4 | M | 63 | 2 | 2 | 2 | 1 | 1 | 1 | 1 | 1 | 2 | 1 | 1 | 2 | 2 | NO  |\n",
       "| 5 | F | 63 | 1 | 2 | 1 | 1 | 1 | 1 | 1 | 2 | 1 | 2 | 2 | 1 | 1 | NO  |\n",
       "| 6 | F | 75 | 1 | 2 | 1 | 1 | 2 | 2 | 2 | 2 | 1 | 2 | 2 | 1 | 1 | YES |\n",
       "\n"
      ],
      "text/plain": [
       "  GENDER AGE SMOKING YELLOW_FINGERS ANXIETY PEER_PRESSURE CHRONIC.DISEASE\n",
       "1 M      69  1       2              2       1             1              \n",
       "2 M      74  2       1              1       1             2              \n",
       "3 F      59  1       1              1       2             1              \n",
       "4 M      63  2       2              2       1             1              \n",
       "5 F      63  1       2              1       1             1              \n",
       "6 F      75  1       2              1       1             2              \n",
       "  FATIGUE ALLERGY WHEEZING ALCOHOL.CONSUMING COUGHING SHORTNESS.OF.BREATH\n",
       "1 2       1       2        2                 2        2                  \n",
       "2 2       2       1        1                 1        2                  \n",
       "3 2       1       2        1                 2        2                  \n",
       "4 1       1       1        2                 1        1                  \n",
       "5 1       1       2        1                 2        2                  \n",
       "6 2       2       2        1                 2        2                  \n",
       "  SWALLOWING.DIFFICULTY CHEST.PAIN LUNG_CANCER\n",
       "1 2                     2          YES        \n",
       "2 2                     2          YES        \n",
       "3 1                     2          NO         \n",
       "4 2                     2          NO         \n",
       "5 1                     1          NO         \n",
       "6 1                     1          YES        "
      ]
     },
     "metadata": {},
     "output_type": "display_data"
    }
   ],
   "source": [
    "library(tidyr)\n",
    "library(ggplot2)\n",
    "library(testthat)\n",
    "library(digest)\n",
    "library(stringr)\n",
    "library(glmnet) #to do logistic regression with regularization\n",
    "library(pROC) #used for plotting ROC curve\n",
    "\n",
    "lung <- read.csv(file = 'surveyLungCancer.csv')\n",
    "head(lung)"
   ]
  },
  {
   "cell_type": "markdown",
   "id": "0eff46a2",
   "metadata": {},
   "source": [
    "### Data Cleaning"
   ]
  },
  {
   "cell_type": "markdown",
   "id": "28ec65e9",
   "metadata": {},
   "source": [
    "Looking at dimensions of the data set. There is 309 rows and 16 columns. With the column names listed below"
   ]
  },
  {
   "cell_type": "code",
   "execution_count": 2,
   "id": "20054a5a",
   "metadata": {},
   "outputs": [
    {
     "data": {
      "text/html": [
       "<style>\n",
       ".list-inline {list-style: none; margin:0; padding: 0}\n",
       ".list-inline>li {display: inline-block}\n",
       ".list-inline>li:not(:last-child)::after {content: \"\\00b7\"; padding: 0 .5ex}\n",
       "</style>\n",
       "<ol class=list-inline><li>309</li><li>16</li></ol>\n"
      ],
      "text/latex": [
       "\\begin{enumerate*}\n",
       "\\item 309\n",
       "\\item 16\n",
       "\\end{enumerate*}\n"
      ],
      "text/markdown": [
       "1. 309\n",
       "2. 16\n",
       "\n",
       "\n"
      ],
      "text/plain": [
       "[1] 309  16"
      ]
     },
     "metadata": {},
     "output_type": "display_data"
    },
    {
     "data": {
      "text/html": [
       "<style>\n",
       ".list-inline {list-style: none; margin:0; padding: 0}\n",
       ".list-inline>li {display: inline-block}\n",
       ".list-inline>li:not(:last-child)::after {content: \"\\00b7\"; padding: 0 .5ex}\n",
       "</style>\n",
       "<ol class=list-inline><li>'GENDER'</li><li>'AGE'</li><li>'SMOKING'</li><li>'YELLOW_FINGERS'</li><li>'ANXIETY'</li><li>'PEER_PRESSURE'</li><li>'CHRONIC.DISEASE'</li><li>'FATIGUE'</li><li>'ALLERGY'</li><li>'WHEEZING'</li><li>'ALCOHOL.CONSUMING'</li><li>'COUGHING'</li><li>'SHORTNESS.OF.BREATH'</li><li>'SWALLOWING.DIFFICULTY'</li><li>'CHEST.PAIN'</li><li>'LUNG_CANCER'</li></ol>\n"
      ],
      "text/latex": [
       "\\begin{enumerate*}\n",
       "\\item 'GENDER'\n",
       "\\item 'AGE'\n",
       "\\item 'SMOKING'\n",
       "\\item 'YELLOW\\_FINGERS'\n",
       "\\item 'ANXIETY'\n",
       "\\item 'PEER\\_PRESSURE'\n",
       "\\item 'CHRONIC.DISEASE'\n",
       "\\item 'FATIGUE'\n",
       "\\item 'ALLERGY'\n",
       "\\item 'WHEEZING'\n",
       "\\item 'ALCOHOL.CONSUMING'\n",
       "\\item 'COUGHING'\n",
       "\\item 'SHORTNESS.OF.BREATH'\n",
       "\\item 'SWALLOWING.DIFFICULTY'\n",
       "\\item 'CHEST.PAIN'\n",
       "\\item 'LUNG\\_CANCER'\n",
       "\\end{enumerate*}\n"
      ],
      "text/markdown": [
       "1. 'GENDER'\n",
       "2. 'AGE'\n",
       "3. 'SMOKING'\n",
       "4. 'YELLOW_FINGERS'\n",
       "5. 'ANXIETY'\n",
       "6. 'PEER_PRESSURE'\n",
       "7. 'CHRONIC.DISEASE'\n",
       "8. 'FATIGUE'\n",
       "9. 'ALLERGY'\n",
       "10. 'WHEEZING'\n",
       "11. 'ALCOHOL.CONSUMING'\n",
       "12. 'COUGHING'\n",
       "13. 'SHORTNESS.OF.BREATH'\n",
       "14. 'SWALLOWING.DIFFICULTY'\n",
       "15. 'CHEST.PAIN'\n",
       "16. 'LUNG_CANCER'\n",
       "\n",
       "\n"
      ],
      "text/plain": [
       " [1] \"GENDER\"                \"AGE\"                   \"SMOKING\"              \n",
       " [4] \"YELLOW_FINGERS\"        \"ANXIETY\"               \"PEER_PRESSURE\"        \n",
       " [7] \"CHRONIC.DISEASE\"       \"FATIGUE\"               \"ALLERGY\"              \n",
       "[10] \"WHEEZING\"              \"ALCOHOL.CONSUMING\"     \"COUGHING\"             \n",
       "[13] \"SHORTNESS.OF.BREATH\"   \"SWALLOWING.DIFFICULTY\" \"CHEST.PAIN\"           \n",
       "[16] \"LUNG_CANCER\"          "
      ]
     },
     "metadata": {},
     "output_type": "display_data"
    }
   ],
   "source": [
    "dim(lung)\n",
    "colnames(lung)"
   ]
  },
  {
   "cell_type": "markdown",
   "id": "ccd1e045",
   "metadata": {},
   "source": [
    "Attribute information:\n",
    "1.\tGender: M(male), F(female)\n",
    "2.\tAge: Age of the patient\n",
    "3.\tSmoking:  YES=2 , NO=1.\n",
    "4.\tYellow fingers: YES=2 , NO=1.\n",
    "5.\tAnxiety: YES=2 , NO=1.\n",
    "6.\tPeer_pressure: YES=2 , NO=1.\n",
    "7.\tChronic Disease: YES=2 , NO=1.\n",
    "8.\tFatigue: YES=2 , NO=1.\n",
    "9.\tAllergy: YES=2 , NO=1.\n",
    "10.\tWheezing: YES=2 , NO=1.\n",
    "11.\tAlcohol: YES=2 , NO=1.\n",
    "12.\tCoughing: YES=2 , NO=1.\n",
    "13.\tShortness of Breath: YES=2 , NO=1.\n",
    "14.\tSwallowing Difficulty: YES=2 , NO=1.\n",
    "15.\tChest pain: YES=2 , NO=1.\n",
    "16.\tLung Cancer: YES , NO."
   ]
  },
  {
   "cell_type": "markdown",
   "id": "ab50e267",
   "metadata": {},
   "source": [
    "Changing variable of Gender to 1 and 0 (1=M and 0=F)"
   ]
  },
  {
   "cell_type": "code",
   "execution_count": 3,
   "id": "3821b3fc",
   "metadata": {},
   "outputs": [
    {
     "data": {
      "text/html": [
       "<table class=\"dataframe\">\n",
       "<caption>A data.frame: 6 × 16</caption>\n",
       "<thead>\n",
       "\t<tr><th></th><th scope=col>GENDER</th><th scope=col>AGE</th><th scope=col>SMOKING</th><th scope=col>YELLOW_FINGERS</th><th scope=col>ANXIETY</th><th scope=col>PEER_PRESSURE</th><th scope=col>CHRONIC.DISEASE</th><th scope=col>FATIGUE</th><th scope=col>ALLERGY</th><th scope=col>WHEEZING</th><th scope=col>ALCOHOL.CONSUMING</th><th scope=col>COUGHING</th><th scope=col>SHORTNESS.OF.BREATH</th><th scope=col>SWALLOWING.DIFFICULTY</th><th scope=col>CHEST.PAIN</th><th scope=col>LUNG_CANCER</th></tr>\n",
       "\t<tr><th></th><th scope=col>&lt;dbl&gt;</th><th scope=col>&lt;int&gt;</th><th scope=col>&lt;int&gt;</th><th scope=col>&lt;int&gt;</th><th scope=col>&lt;int&gt;</th><th scope=col>&lt;int&gt;</th><th scope=col>&lt;int&gt;</th><th scope=col>&lt;int&gt;</th><th scope=col>&lt;int&gt;</th><th scope=col>&lt;int&gt;</th><th scope=col>&lt;int&gt;</th><th scope=col>&lt;int&gt;</th><th scope=col>&lt;int&gt;</th><th scope=col>&lt;int&gt;</th><th scope=col>&lt;int&gt;</th><th scope=col>&lt;fct&gt;</th></tr>\n",
       "</thead>\n",
       "<tbody>\n",
       "\t<tr><th scope=row>1</th><td>1</td><td>69</td><td>1</td><td>2</td><td>2</td><td>1</td><td>1</td><td>2</td><td>1</td><td>2</td><td>2</td><td>2</td><td>2</td><td>2</td><td>2</td><td>YES</td></tr>\n",
       "\t<tr><th scope=row>2</th><td>1</td><td>74</td><td>2</td><td>1</td><td>1</td><td>1</td><td>2</td><td>2</td><td>2</td><td>1</td><td>1</td><td>1</td><td>2</td><td>2</td><td>2</td><td>YES</td></tr>\n",
       "\t<tr><th scope=row>3</th><td>0</td><td>59</td><td>1</td><td>1</td><td>1</td><td>2</td><td>1</td><td>2</td><td>1</td><td>2</td><td>1</td><td>2</td><td>2</td><td>1</td><td>2</td><td>NO </td></tr>\n",
       "\t<tr><th scope=row>4</th><td>1</td><td>63</td><td>2</td><td>2</td><td>2</td><td>1</td><td>1</td><td>1</td><td>1</td><td>1</td><td>2</td><td>1</td><td>1</td><td>2</td><td>2</td><td>NO </td></tr>\n",
       "\t<tr><th scope=row>5</th><td>0</td><td>63</td><td>1</td><td>2</td><td>1</td><td>1</td><td>1</td><td>1</td><td>1</td><td>2</td><td>1</td><td>2</td><td>2</td><td>1</td><td>1</td><td>NO </td></tr>\n",
       "\t<tr><th scope=row>6</th><td>0</td><td>75</td><td>1</td><td>2</td><td>1</td><td>1</td><td>2</td><td>2</td><td>2</td><td>2</td><td>1</td><td>2</td><td>2</td><td>1</td><td>1</td><td>YES</td></tr>\n",
       "</tbody>\n",
       "</table>\n"
      ],
      "text/latex": [
       "A data.frame: 6 × 16\n",
       "\\begin{tabular}{r|llllllllllllllll}\n",
       "  & GENDER & AGE & SMOKING & YELLOW\\_FINGERS & ANXIETY & PEER\\_PRESSURE & CHRONIC.DISEASE & FATIGUE & ALLERGY & WHEEZING & ALCOHOL.CONSUMING & COUGHING & SHORTNESS.OF.BREATH & SWALLOWING.DIFFICULTY & CHEST.PAIN & LUNG\\_CANCER\\\\\n",
       "  & <dbl> & <int> & <int> & <int> & <int> & <int> & <int> & <int> & <int> & <int> & <int> & <int> & <int> & <int> & <int> & <fct>\\\\\n",
       "\\hline\n",
       "\t1 & 1 & 69 & 1 & 2 & 2 & 1 & 1 & 2 & 1 & 2 & 2 & 2 & 2 & 2 & 2 & YES\\\\\n",
       "\t2 & 1 & 74 & 2 & 1 & 1 & 1 & 2 & 2 & 2 & 1 & 1 & 1 & 2 & 2 & 2 & YES\\\\\n",
       "\t3 & 0 & 59 & 1 & 1 & 1 & 2 & 1 & 2 & 1 & 2 & 1 & 2 & 2 & 1 & 2 & NO \\\\\n",
       "\t4 & 1 & 63 & 2 & 2 & 2 & 1 & 1 & 1 & 1 & 1 & 2 & 1 & 1 & 2 & 2 & NO \\\\\n",
       "\t5 & 0 & 63 & 1 & 2 & 1 & 1 & 1 & 1 & 1 & 2 & 1 & 2 & 2 & 1 & 1 & NO \\\\\n",
       "\t6 & 0 & 75 & 1 & 2 & 1 & 1 & 2 & 2 & 2 & 2 & 1 & 2 & 2 & 1 & 1 & YES\\\\\n",
       "\\end{tabular}\n"
      ],
      "text/markdown": [
       "\n",
       "A data.frame: 6 × 16\n",
       "\n",
       "| <!--/--> | GENDER &lt;dbl&gt; | AGE &lt;int&gt; | SMOKING &lt;int&gt; | YELLOW_FINGERS &lt;int&gt; | ANXIETY &lt;int&gt; | PEER_PRESSURE &lt;int&gt; | CHRONIC.DISEASE &lt;int&gt; | FATIGUE &lt;int&gt; | ALLERGY &lt;int&gt; | WHEEZING &lt;int&gt; | ALCOHOL.CONSUMING &lt;int&gt; | COUGHING &lt;int&gt; | SHORTNESS.OF.BREATH &lt;int&gt; | SWALLOWING.DIFFICULTY &lt;int&gt; | CHEST.PAIN &lt;int&gt; | LUNG_CANCER &lt;fct&gt; |\n",
       "|---|---|---|---|---|---|---|---|---|---|---|---|---|---|---|---|---|\n",
       "| 1 | 1 | 69 | 1 | 2 | 2 | 1 | 1 | 2 | 1 | 2 | 2 | 2 | 2 | 2 | 2 | YES |\n",
       "| 2 | 1 | 74 | 2 | 1 | 1 | 1 | 2 | 2 | 2 | 1 | 1 | 1 | 2 | 2 | 2 | YES |\n",
       "| 3 | 0 | 59 | 1 | 1 | 1 | 2 | 1 | 2 | 1 | 2 | 1 | 2 | 2 | 1 | 2 | NO  |\n",
       "| 4 | 1 | 63 | 2 | 2 | 2 | 1 | 1 | 1 | 1 | 1 | 2 | 1 | 1 | 2 | 2 | NO  |\n",
       "| 5 | 0 | 63 | 1 | 2 | 1 | 1 | 1 | 1 | 1 | 2 | 1 | 2 | 2 | 1 | 1 | NO  |\n",
       "| 6 | 0 | 75 | 1 | 2 | 1 | 1 | 2 | 2 | 2 | 2 | 1 | 2 | 2 | 1 | 1 | YES |\n",
       "\n"
      ],
      "text/plain": [
       "  GENDER AGE SMOKING YELLOW_FINGERS ANXIETY PEER_PRESSURE CHRONIC.DISEASE\n",
       "1 1      69  1       2              2       1             1              \n",
       "2 1      74  2       1              1       1             2              \n",
       "3 0      59  1       1              1       2             1              \n",
       "4 1      63  2       2              2       1             1              \n",
       "5 0      63  1       2              1       1             1              \n",
       "6 0      75  1       2              1       1             2              \n",
       "  FATIGUE ALLERGY WHEEZING ALCOHOL.CONSUMING COUGHING SHORTNESS.OF.BREATH\n",
       "1 2       1       2        2                 2        2                  \n",
       "2 2       2       1        1                 1        2                  \n",
       "3 2       1       2        1                 2        2                  \n",
       "4 1       1       1        2                 1        1                  \n",
       "5 1       1       2        1                 2        2                  \n",
       "6 2       2       2        1                 2        2                  \n",
       "  SWALLOWING.DIFFICULTY CHEST.PAIN LUNG_CANCER\n",
       "1 2                     2          YES        \n",
       "2 2                     2          YES        \n",
       "3 1                     2          NO         \n",
       "4 2                     2          NO         \n",
       "5 1                     1          NO         \n",
       "6 1                     1          YES        "
      ]
     },
     "metadata": {},
     "output_type": "display_data"
    }
   ],
   "source": [
    "lung$GENDER <- as.character(lung$GENDER)\n",
    "lung[lung == \"M\"] <- 1      # Replace \"M\" by 1\n",
    "lung[lung == \"F\"] <- 0       # Replace \"F\" by 0\n",
    "lung$GENDER <- as.numeric(lung$GENDER)\n",
    "head(lung)"
   ]
  },
  {
   "cell_type": "markdown",
   "id": "4fa2971e",
   "metadata": {},
   "source": [
    "The data set had 2=yes and 1=no. I switched the values from 2 and 1 to 1 and 0 by subtracting all columns with 1 and 2 by 1"
   ]
  },
  {
   "cell_type": "code",
   "execution_count": 4,
   "id": "583666c1",
   "metadata": {},
   "outputs": [
    {
     "data": {
      "text/html": [
       "<table class=\"dataframe\">\n",
       "<caption>A data.frame: 6 × 16</caption>\n",
       "<thead>\n",
       "\t<tr><th></th><th scope=col>GENDER</th><th scope=col>AGE</th><th scope=col>SMOKING</th><th scope=col>YELLOW_FINGERS</th><th scope=col>ANXIETY</th><th scope=col>PEER_PRESSURE</th><th scope=col>CHRONIC.DISEASE</th><th scope=col>FATIGUE</th><th scope=col>ALLERGY</th><th scope=col>WHEEZING</th><th scope=col>ALCOHOL.CONSUMING</th><th scope=col>COUGHING</th><th scope=col>SHORTNESS.OF.BREATH</th><th scope=col>SWALLOWING.DIFFICULTY</th><th scope=col>CHEST.PAIN</th><th scope=col>LUNG_CANCER</th></tr>\n",
       "\t<tr><th></th><th scope=col>&lt;dbl&gt;</th><th scope=col>&lt;int&gt;</th><th scope=col>&lt;dbl&gt;</th><th scope=col>&lt;dbl&gt;</th><th scope=col>&lt;dbl&gt;</th><th scope=col>&lt;dbl&gt;</th><th scope=col>&lt;dbl&gt;</th><th scope=col>&lt;dbl&gt;</th><th scope=col>&lt;dbl&gt;</th><th scope=col>&lt;dbl&gt;</th><th scope=col>&lt;dbl&gt;</th><th scope=col>&lt;dbl&gt;</th><th scope=col>&lt;dbl&gt;</th><th scope=col>&lt;dbl&gt;</th><th scope=col>&lt;dbl&gt;</th><th scope=col>&lt;fct&gt;</th></tr>\n",
       "</thead>\n",
       "<tbody>\n",
       "\t<tr><th scope=row>1</th><td>1</td><td>69</td><td>0</td><td>1</td><td>1</td><td>0</td><td>0</td><td>1</td><td>0</td><td>1</td><td>1</td><td>1</td><td>1</td><td>1</td><td>1</td><td>YES</td></tr>\n",
       "\t<tr><th scope=row>2</th><td>1</td><td>74</td><td>1</td><td>0</td><td>0</td><td>0</td><td>1</td><td>1</td><td>1</td><td>0</td><td>0</td><td>0</td><td>1</td><td>1</td><td>1</td><td>YES</td></tr>\n",
       "\t<tr><th scope=row>3</th><td>0</td><td>59</td><td>0</td><td>0</td><td>0</td><td>1</td><td>0</td><td>1</td><td>0</td><td>1</td><td>0</td><td>1</td><td>1</td><td>0</td><td>1</td><td>NO </td></tr>\n",
       "\t<tr><th scope=row>4</th><td>1</td><td>63</td><td>1</td><td>1</td><td>1</td><td>0</td><td>0</td><td>0</td><td>0</td><td>0</td><td>1</td><td>0</td><td>0</td><td>1</td><td>1</td><td>NO </td></tr>\n",
       "\t<tr><th scope=row>5</th><td>0</td><td>63</td><td>0</td><td>1</td><td>0</td><td>0</td><td>0</td><td>0</td><td>0</td><td>1</td><td>0</td><td>1</td><td>1</td><td>0</td><td>0</td><td>NO </td></tr>\n",
       "\t<tr><th scope=row>6</th><td>0</td><td>75</td><td>0</td><td>1</td><td>0</td><td>0</td><td>1</td><td>1</td><td>1</td><td>1</td><td>0</td><td>1</td><td>1</td><td>0</td><td>0</td><td>YES</td></tr>\n",
       "</tbody>\n",
       "</table>\n"
      ],
      "text/latex": [
       "A data.frame: 6 × 16\n",
       "\\begin{tabular}{r|llllllllllllllll}\n",
       "  & GENDER & AGE & SMOKING & YELLOW\\_FINGERS & ANXIETY & PEER\\_PRESSURE & CHRONIC.DISEASE & FATIGUE & ALLERGY & WHEEZING & ALCOHOL.CONSUMING & COUGHING & SHORTNESS.OF.BREATH & SWALLOWING.DIFFICULTY & CHEST.PAIN & LUNG\\_CANCER\\\\\n",
       "  & <dbl> & <int> & <dbl> & <dbl> & <dbl> & <dbl> & <dbl> & <dbl> & <dbl> & <dbl> & <dbl> & <dbl> & <dbl> & <dbl> & <dbl> & <fct>\\\\\n",
       "\\hline\n",
       "\t1 & 1 & 69 & 0 & 1 & 1 & 0 & 0 & 1 & 0 & 1 & 1 & 1 & 1 & 1 & 1 & YES\\\\\n",
       "\t2 & 1 & 74 & 1 & 0 & 0 & 0 & 1 & 1 & 1 & 0 & 0 & 0 & 1 & 1 & 1 & YES\\\\\n",
       "\t3 & 0 & 59 & 0 & 0 & 0 & 1 & 0 & 1 & 0 & 1 & 0 & 1 & 1 & 0 & 1 & NO \\\\\n",
       "\t4 & 1 & 63 & 1 & 1 & 1 & 0 & 0 & 0 & 0 & 0 & 1 & 0 & 0 & 1 & 1 & NO \\\\\n",
       "\t5 & 0 & 63 & 0 & 1 & 0 & 0 & 0 & 0 & 0 & 1 & 0 & 1 & 1 & 0 & 0 & NO \\\\\n",
       "\t6 & 0 & 75 & 0 & 1 & 0 & 0 & 1 & 1 & 1 & 1 & 0 & 1 & 1 & 0 & 0 & YES\\\\\n",
       "\\end{tabular}\n"
      ],
      "text/markdown": [
       "\n",
       "A data.frame: 6 × 16\n",
       "\n",
       "| <!--/--> | GENDER &lt;dbl&gt; | AGE &lt;int&gt; | SMOKING &lt;dbl&gt; | YELLOW_FINGERS &lt;dbl&gt; | ANXIETY &lt;dbl&gt; | PEER_PRESSURE &lt;dbl&gt; | CHRONIC.DISEASE &lt;dbl&gt; | FATIGUE &lt;dbl&gt; | ALLERGY &lt;dbl&gt; | WHEEZING &lt;dbl&gt; | ALCOHOL.CONSUMING &lt;dbl&gt; | COUGHING &lt;dbl&gt; | SHORTNESS.OF.BREATH &lt;dbl&gt; | SWALLOWING.DIFFICULTY &lt;dbl&gt; | CHEST.PAIN &lt;dbl&gt; | LUNG_CANCER &lt;fct&gt; |\n",
       "|---|---|---|---|---|---|---|---|---|---|---|---|---|---|---|---|---|\n",
       "| 1 | 1 | 69 | 0 | 1 | 1 | 0 | 0 | 1 | 0 | 1 | 1 | 1 | 1 | 1 | 1 | YES |\n",
       "| 2 | 1 | 74 | 1 | 0 | 0 | 0 | 1 | 1 | 1 | 0 | 0 | 0 | 1 | 1 | 1 | YES |\n",
       "| 3 | 0 | 59 | 0 | 0 | 0 | 1 | 0 | 1 | 0 | 1 | 0 | 1 | 1 | 0 | 1 | NO  |\n",
       "| 4 | 1 | 63 | 1 | 1 | 1 | 0 | 0 | 0 | 0 | 0 | 1 | 0 | 0 | 1 | 1 | NO  |\n",
       "| 5 | 0 | 63 | 0 | 1 | 0 | 0 | 0 | 0 | 0 | 1 | 0 | 1 | 1 | 0 | 0 | NO  |\n",
       "| 6 | 0 | 75 | 0 | 1 | 0 | 0 | 1 | 1 | 1 | 1 | 0 | 1 | 1 | 0 | 0 | YES |\n",
       "\n"
      ],
      "text/plain": [
       "  GENDER AGE SMOKING YELLOW_FINGERS ANXIETY PEER_PRESSURE CHRONIC.DISEASE\n",
       "1 1      69  0       1              1       0             0              \n",
       "2 1      74  1       0              0       0             1              \n",
       "3 0      59  0       0              0       1             0              \n",
       "4 1      63  1       1              1       0             0              \n",
       "5 0      63  0       1              0       0             0              \n",
       "6 0      75  0       1              0       0             1              \n",
       "  FATIGUE ALLERGY WHEEZING ALCOHOL.CONSUMING COUGHING SHORTNESS.OF.BREATH\n",
       "1 1       0       1        1                 1        1                  \n",
       "2 1       1       0        0                 0        1                  \n",
       "3 1       0       1        0                 1        1                  \n",
       "4 0       0       0        1                 0        0                  \n",
       "5 0       0       1        0                 1        1                  \n",
       "6 1       1       1        0                 1        1                  \n",
       "  SWALLOWING.DIFFICULTY CHEST.PAIN LUNG_CANCER\n",
       "1 1                     1          YES        \n",
       "2 1                     1          YES        \n",
       "3 0                     1          NO         \n",
       "4 1                     1          NO         \n",
       "5 0                     0          NO         \n",
       "6 0                     0          YES        "
      ]
     },
     "metadata": {},
     "output_type": "display_data"
    }
   ],
   "source": [
    "lung[,3:15] <- lung[,3:15] -1\n",
    "head(lung)"
   ]
  },
  {
   "cell_type": "markdown",
   "id": "6302be81",
   "metadata": {},
   "source": [
    "Checking for NA entries in the data set. After looking there is 0 NA's in the data set."
   ]
  },
  {
   "cell_type": "code",
   "execution_count": 5,
   "id": "36f6e129",
   "metadata": {},
   "outputs": [
    {
     "data": {
      "text/html": [
       "0"
      ],
      "text/latex": [
       "0"
      ],
      "text/markdown": [
       "0"
      ],
      "text/plain": [
       "[1] 0"
      ]
     },
     "metadata": {},
     "output_type": "display_data"
    }
   ],
   "source": [
    "sum(is.na(lung))"
   ]
  },
  {
   "cell_type": "markdown",
   "id": "eeffa773",
   "metadata": {},
   "source": [
    "### Age Distribution\n",
    "As shownn in the histogram of Age in the Lung Cancer Data. The data only looks at ages 40 to 90 with a heavy look at ages 55 to 75. "
   ]
  },
  {
   "cell_type": "code",
   "execution_count": 6,
   "id": "627c5b80",
   "metadata": {},
   "outputs": [
    {
     "data": {
      "image/png": "[encoded data removed]",
      "text/plain": [
       "plot without title"
      ]
     },
     "metadata": {
      "image/png": {
       "height": 420,
       "width": 420
      }
     },
     "output_type": "display_data"
    }
   ],
   "source": [
    "ggplot(lung, aes(x=AGE)) + geom_histogram(bins=30) + ggtitle(\"Distribtuion of Age\") "
   ]
  },
  {
   "cell_type": "markdown",
   "id": "883a1e33",
   "metadata": {},
   "source": [
    "### Train-Test Split\n",
    "\n",
    "Spliting the dataset into training and testing data at the ration 70/30. Proportions are shown below to check."
   ]
  },
  {
   "cell_type": "code",
   "execution_count": 7,
   "id": "60e51d45",
   "metadata": {},
   "outputs": [
    {
     "data": {
      "text/html": [
       "<style>\n",
       ".list-inline {list-style: none; margin:0; padding: 0}\n",
       ".list-inline>li {display: inline-block}\n",
       ".list-inline>li:not(:last-child)::after {content: \"\\00b7\"; padding: 0 .5ex}\n",
       "</style>\n",
       "<ol class=list-inline><li>216</li><li>16</li></ol>\n"
      ],
      "text/latex": [
       "\\begin{enumerate*}\n",
       "\\item 216\n",
       "\\item 16\n",
       "\\end{enumerate*}\n"
      ],
      "text/markdown": [
       "1. 216\n",
       "2. 16\n",
       "\n",
       "\n"
      ],
      "text/plain": [
       "[1] 216  16"
      ]
     },
     "metadata": {},
     "output_type": "display_data"
    },
    {
     "data": {
      "text/plain": [
       "[1] proportion of train data: 0.699029126213592"
      ]
     },
     "metadata": {},
     "output_type": "display_data"
    },
    {
     "data": {
      "text/plain": [
       "[1] proportion of test data: 0.300970873786408"
      ]
     },
     "metadata": {},
     "output_type": "display_data"
    }
   ],
   "source": [
    "set.seed(4321) # set seed to get 4321 randomly for testing\n",
    "trainidx = sample(1:nrow(lung),size=0.7*nrow(lung),replace=FALSE) #split by 70%\n",
    "\n",
    "\n",
    "train = lung[trainidx, ] #train is first part\n",
    "test = lung[-trainidx, ] #test is rest\n",
    "\n",
    "dim(train) #see the dimensions of train data frame\n",
    "\n",
    "#check the proportions 70%-30% of data taken into the train and test data frames\n",
    "noquote(paste(\"proportion of train data:\",nrow(train)/nrow(lung)))\n",
    "noquote(paste(\"proportion of test data:\",nrow(test)/nrow(lung)))"
   ]
  },
  {
   "cell_type": "markdown",
   "id": "af072919",
   "metadata": {},
   "source": [
    "Response vector y and predictor matrix X from lung cancer without LUNG_CANCER variable"
   ]
  },
  {
   "cell_type": "code",
   "execution_count": 8,
   "id": "c7c58e4c",
   "metadata": {},
   "outputs": [
    {
     "data": {
      "text/html": [
       "<style>\n",
       ".list-inline {list-style: none; margin:0; padding: 0}\n",
       ".list-inline>li {display: inline-block}\n",
       ".list-inline>li:not(:last-child)::after {content: \"\\00b7\"; padding: 0 .5ex}\n",
       "</style>\n",
       "<ol class=list-inline><li>216</li><li>15</li></ol>\n"
      ],
      "text/latex": [
       "\\begin{enumerate*}\n",
       "\\item 216\n",
       "\\item 15\n",
       "\\end{enumerate*}\n"
      ],
      "text/markdown": [
       "1. 216\n",
       "2. 15\n",
       "\n",
       "\n"
      ],
      "text/plain": [
       "[1] 216  15"
      ]
     },
     "metadata": {},
     "output_type": "display_data"
    }
   ],
   "source": [
    "y = train$LUNG_CANCER #response vector y is LUNG_CANCER column\n",
    "X = train[ ,!(names(train) %in% c(\"LUNG_CANCER\"))] #all but Lung cancer variable\n",
    "dim(X)"
   ]
  },
  {
   "cell_type": "markdown",
   "id": "6da64c38",
   "metadata": {},
   "source": [
    "Predictor matrix X is actually an R data frame. In order to use it in the cv.glmnet() function, Converted it into an R matrix object"
   ]
  },
  {
   "cell_type": "code",
   "execution_count": 9,
   "id": "1b5e5d93",
   "metadata": {},
   "outputs": [
    {
     "data": {
      "text/html": [
       "<style>\n",
       ".list-inline {list-style: none; margin:0; padding: 0}\n",
       ".list-inline>li {display: inline-block}\n",
       ".list-inline>li:not(:last-child)::after {content: \"\\00b7\"; padding: 0 .5ex}\n",
       "</style>\n",
       "<ol class=list-inline><li>216</li><li>15</li></ol>\n"
      ],
      "text/latex": [
       "\\begin{enumerate*}\n",
       "\\item 216\n",
       "\\item 15\n",
       "\\end{enumerate*}\n"
      ],
      "text/markdown": [
       "1. 216\n",
       "2. 15\n",
       "\n",
       "\n"
      ],
      "text/plain": [
       "[1] 216  15"
      ]
     },
     "metadata": {},
     "output_type": "display_data"
    },
    {
     "data": {
      "text/html": [
       "<table class=\"dataframe\">\n",
       "<caption>A matrix: 5 × 15 of type dbl</caption>\n",
       "<thead>\n",
       "\t<tr><th></th><th scope=col>GENDER</th><th scope=col>AGE</th><th scope=col>SMOKING</th><th scope=col>YELLOW_FINGERS</th><th scope=col>ANXIETY</th><th scope=col>PEER_PRESSURE</th><th scope=col>CHRONIC.DISEASE</th><th scope=col>FATIGUE</th><th scope=col>ALLERGY</th><th scope=col>WHEEZING</th><th scope=col>ALCOHOL.CONSUMING</th><th scope=col>COUGHING</th><th scope=col>SHORTNESS.OF.BREATH</th><th scope=col>SWALLOWING.DIFFICULTY</th><th scope=col>CHEST.PAIN</th></tr>\n",
       "</thead>\n",
       "<tbody>\n",
       "\t<tr><th scope=row>190</th><td>0</td><td>67</td><td>1</td><td>1</td><td>1</td><td>1</td><td>0</td><td>1</td><td>0</td><td>0</td><td>0</td><td>0</td><td>0</td><td>0</td><td>0</td></tr>\n",
       "\t<tr><th scope=row>29</th><td>0</td><td>53</td><td>1</td><td>1</td><td>1</td><td>0</td><td>1</td><td>0</td><td>0</td><td>1</td><td>1</td><td>0</td><td>1</td><td>1</td><td>1</td></tr>\n",
       "\t<tr><th scope=row>202</th><td>0</td><td>60</td><td>0</td><td>0</td><td>0</td><td>0</td><td>1</td><td>1</td><td>1</td><td>0</td><td>0</td><td>1</td><td>1</td><td>0</td><td>1</td></tr>\n",
       "\t<tr><th scope=row>128</th><td>1</td><td>58</td><td>1</td><td>1</td><td>1</td><td>1</td><td>1</td><td>0</td><td>0</td><td>0</td><td>1</td><td>0</td><td>0</td><td>1</td><td>1</td></tr>\n",
       "\t<tr><th scope=row>238</th><td>0</td><td>54</td><td>1</td><td>1</td><td>1</td><td>1</td><td>1</td><td>1</td><td>0</td><td>1</td><td>0</td><td>1</td><td>0</td><td>1</td><td>1</td></tr>\n",
       "</tbody>\n",
       "</table>\n"
      ],
      "text/latex": [
       "A matrix: 5 × 15 of type dbl\n",
       "\\begin{tabular}{r|lllllllllllllll}\n",
       "  & GENDER & AGE & SMOKING & YELLOW\\_FINGERS & ANXIETY & PEER\\_PRESSURE & CHRONIC.DISEASE & FATIGUE & ALLERGY & WHEEZING & ALCOHOL.CONSUMING & COUGHING & SHORTNESS.OF.BREATH & SWALLOWING.DIFFICULTY & CHEST.PAIN\\\\\n",
       "\\hline\n",
       "\t190 & 0 & 67 & 1 & 1 & 1 & 1 & 0 & 1 & 0 & 0 & 0 & 0 & 0 & 0 & 0\\\\\n",
       "\t29 & 0 & 53 & 1 & 1 & 1 & 0 & 1 & 0 & 0 & 1 & 1 & 0 & 1 & 1 & 1\\\\\n",
       "\t202 & 0 & 60 & 0 & 0 & 0 & 0 & 1 & 1 & 1 & 0 & 0 & 1 & 1 & 0 & 1\\\\\n",
       "\t128 & 1 & 58 & 1 & 1 & 1 & 1 & 1 & 0 & 0 & 0 & 1 & 0 & 0 & 1 & 1\\\\\n",
       "\t238 & 0 & 54 & 1 & 1 & 1 & 1 & 1 & 1 & 0 & 1 & 0 & 1 & 0 & 1 & 1\\\\\n",
       "\\end{tabular}\n"
      ],
      "text/markdown": [
       "\n",
       "A matrix: 5 × 15 of type dbl\n",
       "\n",
       "| <!--/--> | GENDER | AGE | SMOKING | YELLOW_FINGERS | ANXIETY | PEER_PRESSURE | CHRONIC.DISEASE | FATIGUE | ALLERGY | WHEEZING | ALCOHOL.CONSUMING | COUGHING | SHORTNESS.OF.BREATH | SWALLOWING.DIFFICULTY | CHEST.PAIN |\n",
       "|---|---|---|---|---|---|---|---|---|---|---|---|---|---|---|---|\n",
       "| 190 | 0 | 67 | 1 | 1 | 1 | 1 | 0 | 1 | 0 | 0 | 0 | 0 | 0 | 0 | 0 |\n",
       "| 29 | 0 | 53 | 1 | 1 | 1 | 0 | 1 | 0 | 0 | 1 | 1 | 0 | 1 | 1 | 1 |\n",
       "| 202 | 0 | 60 | 0 | 0 | 0 | 0 | 1 | 1 | 1 | 0 | 0 | 1 | 1 | 0 | 1 |\n",
       "| 128 | 1 | 58 | 1 | 1 | 1 | 1 | 1 | 0 | 0 | 0 | 1 | 0 | 0 | 1 | 1 |\n",
       "| 238 | 0 | 54 | 1 | 1 | 1 | 1 | 1 | 1 | 0 | 1 | 0 | 1 | 0 | 1 | 1 |\n",
       "\n"
      ],
      "text/plain": [
       "    GENDER AGE SMOKING YELLOW_FINGERS ANXIETY PEER_PRESSURE CHRONIC.DISEASE\n",
       "190 0      67  1       1              1       1             0              \n",
       "29  0      53  1       1              1       0             1              \n",
       "202 0      60  0       0              0       0             1              \n",
       "128 1      58  1       1              1       1             1              \n",
       "238 0      54  1       1              1       1             1              \n",
       "    FATIGUE ALLERGY WHEEZING ALCOHOL.CONSUMING COUGHING SHORTNESS.OF.BREATH\n",
       "190 1       0       0        0                 0        0                  \n",
       "29  0       0       1        1                 0        1                  \n",
       "202 1       1       0        0                 1        1                  \n",
       "128 0       0       0        1                 0        0                  \n",
       "238 1       0       1        0                 1        0                  \n",
       "    SWALLOWING.DIFFICULTY CHEST.PAIN\n",
       "190 0                     0         \n",
       "29  1                     1         \n",
       "202 0                     1         \n",
       "128 1                     1         \n",
       "238 1                     1         "
      ]
     },
     "metadata": {},
     "output_type": "display_data"
    }
   ],
   "source": [
    "X = model.matrix( ~ . , data=X)[,-1]\n",
    "\n",
    "dim(X)\n",
    "\n",
    "X[1:5,]"
   ]
  },
  {
   "cell_type": "code",
   "execution_count": 10,
   "id": "406ce55e",
   "metadata": {},
   "outputs": [
    {
     "data": {
      "image/png": "[encoded data removed]",
      "text/plain": [
       "plot without title"
      ]
     },
     "metadata": {
      "image/png": {
       "height": 420,
       "width": 420
      }
     },
     "output_type": "display_data"
    }
   ],
   "source": [
    "#setting lambda grid\n",
    "mylambda=seq(0,0.1425,by=0.0005) \n",
    "\n",
    "#Here, we use deviance as a measure performance.\n",
    "\n",
    "#by default, for logistic regression, type.measure is \"deviance\"\n",
    "cvfit = cv.glmnet(X,y,family = \"binomial\",lambda=mylambda,type.measure=\"deviance\",\n",
    "                  nfolds = 10, alpha = 0)  #alpha- ridge:0, lasso:1\n",
    "#plot Ridge based on deviance\n",
    "plot(cvfit)  #plotting cvfit"
   ]
  },
  {
   "cell_type": "code",
   "execution_count": 11,
   "id": "8c9d0357",
   "metadata": {},
   "outputs": [
    {
     "data": {
      "text/html": [
       "0.0185"
      ],
      "text/latex": [
       "0.0185"
      ],
      "text/markdown": [
       "0.0185"
      ],
      "text/plain": [
       "[1] 0.0185"
      ]
     },
     "metadata": {},
     "output_type": "display_data"
    },
    {
     "data": {
      "text/html": [
       "0.1425"
      ],
      "text/latex": [
       "0.1425"
      ],
      "text/markdown": [
       "0.1425"
      ],
      "text/plain": [
       "[1] 0.1425"
      ]
     },
     "metadata": {},
     "output_type": "display_data"
    }
   ],
   "source": [
    "#the value of optimal lambda that minimizes loss\n",
    "cvfit$lambda.min\n",
    "\n",
    "#the value of optimal lambda by the 1SE rule\n",
    "cvfit$lambda.1se"
   ]
  },
  {
   "cell_type": "markdown",
   "id": "504fa0ca",
   "metadata": {},
   "source": [
    "Used coef(cvfit) to see the values of all the fitted coefficients"
   ]
  },
  {
   "cell_type": "code",
   "execution_count": 12,
   "id": "0322b1af",
   "metadata": {},
   "outputs": [
    {
     "data": {
      "text/plain": [
       "16 x 1 sparse Matrix of class \"dgCMatrix\"\n",
       "                                s1\n",
       "(Intercept)           -1.529551544\n",
       "GENDER                 0.077148579\n",
       "AGE                    0.004896102\n",
       "SMOKING                0.303856091\n",
       "YELLOW_FINGERS         0.486708547\n",
       "ANXIETY                0.348920519\n",
       "PEER_PRESSURE          0.551865893\n",
       "CHRONIC.DISEASE        0.519678089\n",
       "FATIGUE                0.561549628\n",
       "ALLERGY                0.708426537\n",
       "WHEEZING               0.388295468\n",
       "ALCOHOL.CONSUMING      0.673193064\n",
       "COUGHING               0.526994671\n",
       "SHORTNESS.OF.BREATH    0.180897931\n",
       "SWALLOWING.DIFFICULTY  0.478446629\n",
       "CHEST.PAIN             0.317497477"
      ]
     },
     "metadata": {},
     "output_type": "display_data"
    }
   ],
   "source": [
    "coef(cvfit)"
   ]
  },
  {
   "cell_type": "markdown",
   "id": "f77969f8",
   "metadata": {},
   "source": [
    "### Predicting on Test Data\n",
    "To check performance, predict() function and have newx, which is the predictor matrix with the test data"
   ]
  },
  {
   "cell_type": "code",
   "execution_count": 13,
   "id": "c707d4b1",
   "metadata": {},
   "outputs": [
    {
     "data": {
      "text/html": [
       "93"
      ],
      "text/latex": [
       "93"
      ],
      "text/markdown": [
       "93"
      ],
      "text/plain": [
       "[1] 93"
      ]
     },
     "metadata": {},
     "output_type": "display_data"
    },
    {
     "data": {
      "text/html": [
       "<style>\n",
       ".list-inline {list-style: none; margin:0; padding: 0}\n",
       ".list-inline>li {display: inline-block}\n",
       ".list-inline>li:not(:last-child)::after {content: \"\\00b7\"; padding: 0 .5ex}\n",
       "</style>\n",
       "<ol class=list-inline><li>93</li><li>15</li></ol>\n"
      ],
      "text/latex": [
       "\\begin{enumerate*}\n",
       "\\item 93\n",
       "\\item 15\n",
       "\\end{enumerate*}\n"
      ],
      "text/markdown": [
       "1. 93\n",
       "2. 15\n",
       "\n",
       "\n"
      ],
      "text/plain": [
       "[1] 93 15"
      ]
     },
     "metadata": {},
     "output_type": "display_data"
    }
   ],
   "source": [
    "ytest = test$LUNG_CANCER # test data is only LUNG_CANCER column\n",
    "Xtest = test[ ,!(names(test) %in% c(\"LUNG_CANCER\"))]  #everything but LUNG_CANCER\n",
    "\n",
    "Xtest = model.matrix( ~ ., data=Xtest)[,-1] # change to matrix\n",
    "pihat = predict(object=cvfit, newx = Xtest, type=\"response\") #predict using the test data on cvfit model\n",
    "\n",
    "length(pihat)\n",
    "dim(Xtest)"
   ]
  },
  {
   "cell_type": "markdown",
   "id": "b4b54a8d",
   "metadata": {},
   "source": [
    "### Measure Performace\n",
    "I accessed performance using ROC curve and accuracy, as well as false negative rate (since we don't want our model to false predict no lung cancer when it does occur)."
   ]
  },
  {
   "cell_type": "code",
   "execution_count": 14,
   "id": "6a639626",
   "metadata": {},
   "outputs": [
    {
     "name": "stderr",
     "output_type": "stream",
     "text": [
      "Setting levels: control = FALSE, case = TRUE\n",
      "\n",
      "Warning message in roc.default(response = ylogical, predictor = pihat):\n",
      "“Deprecated use a matrix as predictor. Unexpected results may be produced, please pass a numeric vector.”\n",
      "Setting direction: controls < cases\n",
      "\n"
     ]
    },
    {
     "data": {
      "image/png": "[encoded data removed]",
      "text/plain": [
       "Plot with title “AUC =  0.96”"
      ]
     },
     "metadata": {
      "image/png": {
       "height": 420,
       "width": 420
      }
     },
     "output_type": "display_data"
    }
   ],
   "source": [
    "ylogical = (ytest == \"YES\")  # find all Yes's in test data\n",
    "ROCcrv = roc(response=ylogical, predictor=pihat) # create a ROC curve\n",
    "AUC = auc(ROCcrv) # get the area under the curve\n",
    "\n",
    "plot(x=ROCcrv$specificities,y=ROCcrv$sensitivities, main=paste(\"AUC = \",round(AUC,2)), \n",
    "     xlab=\"Specificity\", ylab=\"Sensitivity\", xlim=c(1,0), type=\"l\", col=\"red\") # plot ROC curve\n",
    "\n",
    "abline(a=1,b=-1,lty=\"dashed\") #the diagonal line \n"
   ]
  },
  {
   "cell_type": "markdown",
   "id": "4a9816f7",
   "metadata": {},
   "source": [
    "This ROC curve is really good for going towards the top left. An AUC of 0.5 suggests no discrimination (diagnose patients with and without the condition based on the test), 0.7 to 0.8 is considered accepted, 0.8 to 0.9 is considered excellent, and more than 0.9 is considered outstanding. This model is outstaning for having AUC over 0.9."
   ]
  },
  {
   "cell_type": "code",
   "execution_count": 15,
   "id": "3b16eb56",
   "metadata": {},
   "outputs": [
    {
     "data": {
      "text/html": [
       "0.956810631229236"
      ],
      "text/latex": [
       "0.956810631229236"
      ],
      "text/markdown": [
       "0.956810631229236"
      ],
      "text/plain": [
       "Area under the curve: 0.9568"
      ]
     },
     "metadata": {},
     "output_type": "display_data"
    }
   ],
   "source": [
    "#print the precise value of AUC (area under the curve)\n",
    "AUC"
   ]
  },
  {
   "cell_type": "code",
   "execution_count": 16,
   "id": "95506411",
   "metadata": {},
   "outputs": [],
   "source": [
    "#creating yhat vector based on the rule: yhat=Yes if pihat>0.5; otherwise, yhat=No\n",
    "yhat = ifelse(pihat>0.5,\"Yes\",\"No\")"
   ]
  },
  {
   "cell_type": "code",
   "execution_count": 17,
   "id": "38f065ac",
   "metadata": {},
   "outputs": [
    {
     "data": {
      "text/plain": [
       "     ytest\n",
       "yhat  NO YES\n",
       "  No   0   1\n",
       "  Yes  7  85"
      ]
     },
     "metadata": {},
     "output_type": "display_data"
    }
   ],
   "source": [
    "tbl = table(yhat, ytest)\n",
    "tbl"
   ]
  },
  {
   "cell_type": "code",
   "execution_count": 18,
   "id": "b0c918b4",
   "metadata": {},
   "outputs": [
    {
     "data": {
      "text/html": [
       "0.913978494623656"
      ],
      "text/latex": [
       "0.913978494623656"
      ],
      "text/markdown": [
       "0.913978494623656"
      ],
      "text/plain": [
       "[1] 0.9139785"
      ]
     },
     "metadata": {},
     "output_type": "display_data"
    }
   ],
   "source": [
    "# accuracy (proportion of correctly predicted)\n",
    "(tbl[1,1]+tbl[2,2])/sum(tbl)"
   ]
  },
  {
   "cell_type": "code",
   "execution_count": 19,
   "id": "11de94f7",
   "metadata": {},
   "outputs": [
    {
     "data": {
      "text/html": [
       "0.0116279069767442"
      ],
      "text/latex": [
       "0.0116279069767442"
      ],
      "text/markdown": [
       "0.0116279069767442"
      ],
      "text/plain": [
       "[1] 0.01162791"
      ]
     },
     "metadata": {},
     "output_type": "display_data"
    }
   ],
   "source": [
    "# false negative rate\n",
    "tbl[1,2]/sum(tbl[,2])"
   ]
  },
  {
   "cell_type": "code",
   "execution_count": 20,
   "id": "8ac897b2",
   "metadata": {},
   "outputs": [
    {
     "data": {
      "image/png": "[encoded data removed]",
      "text/plain": [
       "plot without title"
      ]
     },
     "metadata": {
      "image/png": {
       "height": 420,
       "width": 420
      }
     },
     "output_type": "display_data"
    }
   ],
   "source": [
    "#beta coefficients for various models, i.e. various lambdas/flexibilities\n",
    "plot(cvfit$glmnet.fit)"
   ]
  },
  {
   "cell_type": "markdown",
   "id": "6adca687",
   "metadata": {},
   "source": [
    "### Part b) Lung Cancer Lasso Regression"
   ]
  },
  {
   "cell_type": "code",
   "execution_count": 21,
   "id": "605b7db8",
   "metadata": {},
   "outputs": [
    {
     "data": {
      "text/plain": [
       "\n",
       "Call:  cv.glmnet(x = X, y = y, lambda = mylambda, type.measure = \"deviance\",      nfolds = 10, family = \"binomial\", alpha = 1) \n",
       "\n",
       "Measure: Binomial Deviance \n",
       "\n",
       "    Lambda Index Measure      SE Nonzero\n",
       "min 0.0080   270  0.4474 0.06366      12\n",
       "1se 0.0235   239  0.5087 0.04615      11"
      ]
     },
     "metadata": {},
     "output_type": "display_data"
    }
   ],
   "source": [
    "cvfit = cv.glmnet(X,y,family = \"binomial\",lambda=mylambda,type.measure=\"deviance\",nfolds=10,alpha=1) # alpha=1 for lass regression\n",
    "cvfit"
   ]
  },
  {
   "cell_type": "code",
   "execution_count": 22,
   "id": "80669c25",
   "metadata": {},
   "outputs": [
    {
     "data": {
      "text/plain": [
       "16 x 1 sparse Matrix of class \"dgCMatrix\"\n",
       "                               s1\n",
       "(Intercept)           -2.02324062\n",
       "GENDER                 .         \n",
       "AGE                    .         \n",
       "SMOKING                0.31324115\n",
       "YELLOW_FINGERS         0.96785827\n",
       "ANXIETY                .         \n",
       "PEER_PRESSURE          0.83585393\n",
       "CHRONIC.DISEASE        0.82048857\n",
       "FATIGUE                1.04772382\n",
       "ALLERGY                1.18802175\n",
       "WHEEZING               0.14785985\n",
       "ALCOHOL.CONSUMING      1.34553816\n",
       "COUGHING               0.73645035\n",
       "SHORTNESS.OF.BREATH    .         \n",
       "SWALLOWING.DIFFICULTY  0.78752939\n",
       "CHEST.PAIN             0.02849964"
      ]
     },
     "metadata": {},
     "output_type": "display_data"
    }
   ],
   "source": [
    "coef(cvfit) # find coeficients "
   ]
  },
  {
   "cell_type": "code",
   "execution_count": 23,
   "id": "78579783",
   "metadata": {},
   "outputs": [
    {
     "name": "stderr",
     "output_type": "stream",
     "text": [
      "Warning message in regularize.values(x, y, ties, missing(ties)):\n",
      "“collapsing to unique 'x' values”\n"
     ]
    },
    {
     "data": {
      "image/png": "[encoded data removed]",
      "text/plain": [
       "plot without title"
      ]
     },
     "metadata": {
      "image/png": {
       "height": 420,
       "width": 420
      }
     },
     "output_type": "display_data"
    },
    {
     "data": {
      "image/png": "[encoded data removed]",
      "text/plain": [
       "plot without title"
      ]
     },
     "metadata": {
      "image/png": {
       "height": 420,
       "width": 420
      }
     },
     "output_type": "display_data"
    }
   ],
   "source": [
    "#plot Lasso based on deviance measure\n",
    "plot(cvfit)  #plot the cvfit\n",
    "\n",
    "#plot coefficients for various models; ignore the warning message\n",
    "plot(cvfit$glmnet.fit)"
   ]
  },
  {
   "cell_type": "code",
   "execution_count": 24,
   "id": "0bff829a",
   "metadata": {},
   "outputs": [
    {
     "data": {
      "image/png": "[encoded data removed]",
      "text/plain": [
       "Plot with title “Number of Non-zero Coeff's for Each”"
      ]
     },
     "metadata": {
      "image/png": {
       "height": 420,
       "width": 420
      }
     },
     "output_type": "display_data"
    }
   ],
   "source": [
    "##Number of non-zero coefficients vs. $\\lambda$\n",
    "plot(cvfit$glmnet$lambda,cvfit$glmnet$df, \n",
    "     main=\"Number of Non-zero Coeff's for Each\",pch=16)\n",
    "abline(v=cvfit$lambda.min,col=\"red\",lty=\"dashed\")\n",
    "abline(v=cvfit$lambda.1se,col=\"blue\",lty=\"dashed\")"
   ]
  },
  {
   "cell_type": "code",
   "execution_count": 25,
   "id": "6aa003c2",
   "metadata": {},
   "outputs": [],
   "source": [
    "ytest = test$LUNG_CANCER # test data of LUNG_CANCER variable\n",
    "Xtest = test[ ,!(names(test) %in% c(\"LUNG_CANCER\"))] # everything in data set besides LUNG_CANCER variable\n",
    "\n",
    "Xtest = model.matrix( ~ ., data=Xtest)[,-1] # make Xtest a model matrix  \n",
    "pihat = predict(object=cvfit, newx = Xtest, type=\"response\")"
   ]
  },
  {
   "cell_type": "code",
   "execution_count": 26,
   "id": "7f05536b",
   "metadata": {},
   "outputs": [
    {
     "name": "stderr",
     "output_type": "stream",
     "text": [
      "Setting levels: control = FALSE, case = TRUE\n",
      "\n",
      "Warning message in roc.default(response = ylogical, predictor = pihat):\n",
      "“Deprecated use a matrix as predictor. Unexpected results may be produced, please pass a numeric vector.”\n",
      "Setting direction: controls < cases\n",
      "\n"
     ]
    },
    {
     "data": {
      "text/html": [
       "0.938538205980066"
      ],
      "text/latex": [
       "0.938538205980066"
      ],
      "text/markdown": [
       "0.938538205980066"
      ],
      "text/plain": [
       "Area under the curve: 0.9385"
      ]
     },
     "metadata": {},
     "output_type": "display_data"
    },
    {
     "data": {
      "image/png": "[encoded data removed]",
      "text/plain": [
       "Plot with title “AUC =  0.94”"
      ]
     },
     "metadata": {
      "image/png": {
       "height": 420,
       "width": 420
      }
     },
     "output_type": "display_data"
    }
   ],
   "source": [
    "ylogical = (ytest == \"YES\")\n",
    "ROCcrv = roc(response=ylogical, predictor=pihat) # make ROC curve\n",
    "AUC = auc(ROCcrv) # area under the curve\n",
    "\n",
    "plot(x=ROCcrv$specificities,y=ROCcrv$sensitivities, main=paste(\"AUC = \",round(AUC,2)), \n",
    "     xlab=\"Specificity (decreasing order!)\", ylab=\"Sensitivity\", xlim=c(1,0), type=\"l\", col=\"red\") # plotting ROC curve\n",
    "abline(a=1,b=-1,lty=\"dashed\") #the diagonal line\n",
    "AUC"
   ]
  },
  {
   "cell_type": "markdown",
   "id": "7c56e64f",
   "metadata": {},
   "source": [
    "The ROC curve shows that it is worse than the ridge regression by just 0.02. Both ROC curves look very good and show very good accuracy. "
   ]
  },
  {
   "cell_type": "code",
   "execution_count": 27,
   "id": "6c395b46",
   "metadata": {},
   "outputs": [
    {
     "data": {
      "text/plain": [
       "     ytest\n",
       "yhat  NO YES\n",
       "  No   0   2\n",
       "  Yes  7  84"
      ]
     },
     "metadata": {},
     "output_type": "display_data"
    }
   ],
   "source": [
    "#creating yhat vector based on the rule: yhat=Yes if pihat>0.5; otherwise, yhat=No\n",
    "yhat = ifelse(pihat>0.5,\"Yes\",\"No\") \n",
    "tbl = table(yhat, ytest)\n",
    "tbl"
   ]
  },
  {
   "cell_type": "markdown",
   "id": "1421240d",
   "metadata": {},
   "source": [
    "Looking at accuracy and false negative rate. "
   ]
  },
  {
   "cell_type": "code",
   "execution_count": 28,
   "id": "ea76ca6f",
   "metadata": {},
   "outputs": [
    {
     "name": "stdout",
     "output_type": "stream",
     "text": [
      "[1] \"Accuracy: \"\n"
     ]
    },
    {
     "data": {
      "text/html": [
       "0.903225806451613"
      ],
      "text/latex": [
       "0.903225806451613"
      ],
      "text/markdown": [
       "0.903225806451613"
      ],
      "text/plain": [
       "[1] 0.9032258"
      ]
     },
     "metadata": {},
     "output_type": "display_data"
    },
    {
     "name": "stdout",
     "output_type": "stream",
     "text": [
      "[1] \"False Negative Rate: \"\n"
     ]
    },
    {
     "data": {
      "text/html": [
       "0.0232558139534884"
      ],
      "text/latex": [
       "0.0232558139534884"
      ],
      "text/markdown": [
       "0.0232558139534884"
      ],
      "text/plain": [
       "[1] 0.02325581"
      ]
     },
     "metadata": {},
     "output_type": "display_data"
    },
    {
     "data": {
      "text/plain": [
       "     ytest\n",
       "yhat  NO YES\n",
       "  No   0   2\n",
       "  Yes  7  84"
      ]
     },
     "metadata": {},
     "output_type": "display_data"
    }
   ],
   "source": [
    "acc = (tbl[1,1]+tbl[2,2])/sum(tbl) # accuracy\n",
    "FNR = tbl[1,2]/sum(tbl[,2]) # false negative rate\n",
    "\n",
    "print('Accuracy: ')\n",
    "acc\n",
    "\n",
    "print('False Negative Rate: ')\n",
    "FNR\n",
    "tbl"
   ]
  },
  {
   "cell_type": "markdown",
   "id": "defbc907",
   "metadata": {},
   "source": [
    "Accuracy is higher for Ridge regression and the false negative rate is lower as well<br><br>\n",
    "Ridge:<br>\n",
    "Accuracy = 0.913978494623656<br>\n",
    "False Negative Rate = 0.0116279069767442<br><br>\n",
    "\n",
    "Lasso:<br>\n",
    "Accuracy = 0.903225806451613<br>\n",
    "False Negative Rate = 0.0232558139534884"
   ]
  },
  {
   "cell_type": "markdown",
   "id": "9ce3bd57",
   "metadata": {},
   "source": [
    "## Part 2 of Project: Naive Bayes \n",
    "Naive Bayes regression classifier is a type of machine learning algorithm based on the Bayes theorem conditional probability for prediction and is considered to be more accurate than other algorithms. "
   ]
  },
  {
   "cell_type": "code",
   "execution_count": 29,
   "id": "2c4b1357",
   "metadata": {},
   "outputs": [
    {
     "data": {
      "text/html": [
       "<table class=\"dataframe\">\n",
       "<caption>A data.frame: 6 × 16</caption>\n",
       "<thead>\n",
       "\t<tr><th></th><th scope=col>GENDER</th><th scope=col>AGE</th><th scope=col>SMOKING</th><th scope=col>YELLOW_FINGERS</th><th scope=col>ANXIETY</th><th scope=col>PEER_PRESSURE</th><th scope=col>CHRONIC.DISEASE</th><th scope=col>FATIGUE</th><th scope=col>ALLERGY</th><th scope=col>WHEEZING</th><th scope=col>ALCOHOL.CONSUMING</th><th scope=col>COUGHING</th><th scope=col>SHORTNESS.OF.BREATH</th><th scope=col>SWALLOWING.DIFFICULTY</th><th scope=col>CHEST.PAIN</th><th scope=col>LUNG_CANCER</th></tr>\n",
       "\t<tr><th></th><th scope=col>&lt;dbl&gt;</th><th scope=col>&lt;int&gt;</th><th scope=col>&lt;dbl&gt;</th><th scope=col>&lt;dbl&gt;</th><th scope=col>&lt;dbl&gt;</th><th scope=col>&lt;dbl&gt;</th><th scope=col>&lt;dbl&gt;</th><th scope=col>&lt;dbl&gt;</th><th scope=col>&lt;dbl&gt;</th><th scope=col>&lt;dbl&gt;</th><th scope=col>&lt;dbl&gt;</th><th scope=col>&lt;dbl&gt;</th><th scope=col>&lt;dbl&gt;</th><th scope=col>&lt;dbl&gt;</th><th scope=col>&lt;dbl&gt;</th><th scope=col>&lt;fct&gt;</th></tr>\n",
       "</thead>\n",
       "<tbody>\n",
       "\t<tr><th scope=row>1</th><td>1</td><td>69</td><td>0</td><td>1</td><td>1</td><td>0</td><td>0</td><td>1</td><td>0</td><td>1</td><td>1</td><td>1</td><td>1</td><td>1</td><td>1</td><td>YES</td></tr>\n",
       "\t<tr><th scope=row>2</th><td>1</td><td>74</td><td>1</td><td>0</td><td>0</td><td>0</td><td>1</td><td>1</td><td>1</td><td>0</td><td>0</td><td>0</td><td>1</td><td>1</td><td>1</td><td>YES</td></tr>\n",
       "\t<tr><th scope=row>3</th><td>0</td><td>59</td><td>0</td><td>0</td><td>0</td><td>1</td><td>0</td><td>1</td><td>0</td><td>1</td><td>0</td><td>1</td><td>1</td><td>0</td><td>1</td><td>NO </td></tr>\n",
       "\t<tr><th scope=row>4</th><td>1</td><td>63</td><td>1</td><td>1</td><td>1</td><td>0</td><td>0</td><td>0</td><td>0</td><td>0</td><td>1</td><td>0</td><td>0</td><td>1</td><td>1</td><td>NO </td></tr>\n",
       "\t<tr><th scope=row>5</th><td>0</td><td>63</td><td>0</td><td>1</td><td>0</td><td>0</td><td>0</td><td>0</td><td>0</td><td>1</td><td>0</td><td>1</td><td>1</td><td>0</td><td>0</td><td>NO </td></tr>\n",
       "\t<tr><th scope=row>6</th><td>0</td><td>75</td><td>0</td><td>1</td><td>0</td><td>0</td><td>1</td><td>1</td><td>1</td><td>1</td><td>0</td><td>1</td><td>1</td><td>0</td><td>0</td><td>YES</td></tr>\n",
       "</tbody>\n",
       "</table>\n"
      ],
      "text/latex": [
       "A data.frame: 6 × 16\n",
       "\\begin{tabular}{r|llllllllllllllll}\n",
       "  & GENDER & AGE & SMOKING & YELLOW\\_FINGERS & ANXIETY & PEER\\_PRESSURE & CHRONIC.DISEASE & FATIGUE & ALLERGY & WHEEZING & ALCOHOL.CONSUMING & COUGHING & SHORTNESS.OF.BREATH & SWALLOWING.DIFFICULTY & CHEST.PAIN & LUNG\\_CANCER\\\\\n",
       "  & <dbl> & <int> & <dbl> & <dbl> & <dbl> & <dbl> & <dbl> & <dbl> & <dbl> & <dbl> & <dbl> & <dbl> & <dbl> & <dbl> & <dbl> & <fct>\\\\\n",
       "\\hline\n",
       "\t1 & 1 & 69 & 0 & 1 & 1 & 0 & 0 & 1 & 0 & 1 & 1 & 1 & 1 & 1 & 1 & YES\\\\\n",
       "\t2 & 1 & 74 & 1 & 0 & 0 & 0 & 1 & 1 & 1 & 0 & 0 & 0 & 1 & 1 & 1 & YES\\\\\n",
       "\t3 & 0 & 59 & 0 & 0 & 0 & 1 & 0 & 1 & 0 & 1 & 0 & 1 & 1 & 0 & 1 & NO \\\\\n",
       "\t4 & 1 & 63 & 1 & 1 & 1 & 0 & 0 & 0 & 0 & 0 & 1 & 0 & 0 & 1 & 1 & NO \\\\\n",
       "\t5 & 0 & 63 & 0 & 1 & 0 & 0 & 0 & 0 & 0 & 1 & 0 & 1 & 1 & 0 & 0 & NO \\\\\n",
       "\t6 & 0 & 75 & 0 & 1 & 0 & 0 & 1 & 1 & 1 & 1 & 0 & 1 & 1 & 0 & 0 & YES\\\\\n",
       "\\end{tabular}\n"
      ],
      "text/markdown": [
       "\n",
       "A data.frame: 6 × 16\n",
       "\n",
       "| <!--/--> | GENDER &lt;dbl&gt; | AGE &lt;int&gt; | SMOKING &lt;dbl&gt; | YELLOW_FINGERS &lt;dbl&gt; | ANXIETY &lt;dbl&gt; | PEER_PRESSURE &lt;dbl&gt; | CHRONIC.DISEASE &lt;dbl&gt; | FATIGUE &lt;dbl&gt; | ALLERGY &lt;dbl&gt; | WHEEZING &lt;dbl&gt; | ALCOHOL.CONSUMING &lt;dbl&gt; | COUGHING &lt;dbl&gt; | SHORTNESS.OF.BREATH &lt;dbl&gt; | SWALLOWING.DIFFICULTY &lt;dbl&gt; | CHEST.PAIN &lt;dbl&gt; | LUNG_CANCER &lt;fct&gt; |\n",
       "|---|---|---|---|---|---|---|---|---|---|---|---|---|---|---|---|---|\n",
       "| 1 | 1 | 69 | 0 | 1 | 1 | 0 | 0 | 1 | 0 | 1 | 1 | 1 | 1 | 1 | 1 | YES |\n",
       "| 2 | 1 | 74 | 1 | 0 | 0 | 0 | 1 | 1 | 1 | 0 | 0 | 0 | 1 | 1 | 1 | YES |\n",
       "| 3 | 0 | 59 | 0 | 0 | 0 | 1 | 0 | 1 | 0 | 1 | 0 | 1 | 1 | 0 | 1 | NO  |\n",
       "| 4 | 1 | 63 | 1 | 1 | 1 | 0 | 0 | 0 | 0 | 0 | 1 | 0 | 0 | 1 | 1 | NO  |\n",
       "| 5 | 0 | 63 | 0 | 1 | 0 | 0 | 0 | 0 | 0 | 1 | 0 | 1 | 1 | 0 | 0 | NO  |\n",
       "| 6 | 0 | 75 | 0 | 1 | 0 | 0 | 1 | 1 | 1 | 1 | 0 | 1 | 1 | 0 | 0 | YES |\n",
       "\n"
      ],
      "text/plain": [
       "  GENDER AGE SMOKING YELLOW_FINGERS ANXIETY PEER_PRESSURE CHRONIC.DISEASE\n",
       "1 1      69  0       1              1       0             0              \n",
       "2 1      74  1       0              0       0             1              \n",
       "3 0      59  0       0              0       1             0              \n",
       "4 1      63  1       1              1       0             0              \n",
       "5 0      63  0       1              0       0             0              \n",
       "6 0      75  0       1              0       0             1              \n",
       "  FATIGUE ALLERGY WHEEZING ALCOHOL.CONSUMING COUGHING SHORTNESS.OF.BREATH\n",
       "1 1       0       1        1                 1        1                  \n",
       "2 1       1       0        0                 0        1                  \n",
       "3 1       0       1        0                 1        1                  \n",
       "4 0       0       0        1                 0        0                  \n",
       "5 0       0       1        0                 1        1                  \n",
       "6 1       1       1        0                 1        1                  \n",
       "  SWALLOWING.DIFFICULTY CHEST.PAIN LUNG_CANCER\n",
       "1 1                     1          YES        \n",
       "2 1                     1          YES        \n",
       "3 0                     1          NO         \n",
       "4 1                     1          NO         \n",
       "5 0                     0          NO         \n",
       "6 0                     0          YES        "
      ]
     },
     "metadata": {},
     "output_type": "display_data"
    }
   ],
   "source": [
    "library(e1071)\n",
    "library(MASS)\n",
    "library(caTools)\n",
    "head(lung)"
   ]
  },
  {
   "cell_type": "code",
   "execution_count": 30,
   "id": "9eb25a5f",
   "metadata": {},
   "outputs": [
    {
     "name": "stdout",
     "output_type": "stream",
     "text": [
      "[1] \"Dimensions of test_set:\"\n"
     ]
    },
    {
     "data": {
      "text/html": [
       "<style>\n",
       ".list-inline {list-style: none; margin:0; padding: 0}\n",
       ".list-inline>li {display: inline-block}\n",
       ".list-inline>li:not(:last-child)::after {content: \"\\00b7\"; padding: 0 .5ex}\n",
       "</style>\n",
       "<ol class=list-inline><li>77</li><li>16</li></ol>\n"
      ],
      "text/latex": [
       "\\begin{enumerate*}\n",
       "\\item 77\n",
       "\\item 16\n",
       "\\end{enumerate*}\n"
      ],
      "text/markdown": [
       "1. 77\n",
       "2. 16\n",
       "\n",
       "\n"
      ],
      "text/plain": [
       "[1] 77 16"
      ]
     },
     "metadata": {},
     "output_type": "display_data"
    },
    {
     "name": "stdout",
     "output_type": "stream",
     "text": [
      "[1] \"Dimensions of train_set:\"\n"
     ]
    },
    {
     "data": {
      "text/html": [
       "<style>\n",
       ".list-inline {list-style: none; margin:0; padding: 0}\n",
       ".list-inline>li {display: inline-block}\n",
       ".list-inline>li:not(:last-child)::after {content: \"\\00b7\"; padding: 0 .5ex}\n",
       "</style>\n",
       "<ol class=list-inline><li>232</li><li>16</li></ol>\n"
      ],
      "text/latex": [
       "\\begin{enumerate*}\n",
       "\\item 232\n",
       "\\item 16\n",
       "\\end{enumerate*}\n"
      ],
      "text/markdown": [
       "1. 232\n",
       "2. 16\n",
       "\n",
       "\n"
      ],
      "text/plain": [
       "[1] 232  16"
      ]
     },
     "metadata": {},
     "output_type": "display_data"
    }
   ],
   "source": [
    "split <- sample.split(lung, SplitRatio = 0.8)  #split data by 80% and 20%\n",
    "train_set <- subset(lung, split == \"TRUE\") # train set\n",
    "test_set <- subset(lung, split == \"FALSE\") # test set\n",
    "\n",
    "rownames(train_set) <- 1:nrow(train_set)    # reset indices of train_set\n",
    "rownames(test_set) <- 1:nrow(test_set)    #reset indices of test_set\n",
    "\n",
    "print(\"Dimensions of test_set:\")\n",
    "dim(test_set)\n",
    "print(\"Dimensions of train_set:\")\n",
    "dim(train_set)\n"
   ]
  },
  {
   "cell_type": "code",
   "execution_count": 31,
   "id": "a85684a2",
   "metadata": {},
   "outputs": [],
   "source": [
    "testX = test_set[1:15] #test data all byt LUNG_CANCER variable\n",
    "testy = test_set$LUNG_CANCER # only LUNG_CANCER variable"
   ]
  },
  {
   "cell_type": "markdown",
   "id": "6444685d",
   "metadata": {},
   "source": [
    "Model created using Naive Bayes fitting on training data"
   ]
  },
  {
   "cell_type": "code",
   "execution_count": 32,
   "id": "ef8eed32",
   "metadata": {},
   "outputs": [],
   "source": [
    "# model using naive bayes\n",
    "# fit on training data, \n",
    "model = naiveBayes(LUNG_CANCER~.,data=train_set) "
   ]
  },
  {
   "cell_type": "markdown",
   "id": "168e5ad5",
   "metadata": {},
   "source": [
    "Predict on test data"
   ]
  },
  {
   "cell_type": "code",
   "execution_count": 33,
   "id": "eb9156d7",
   "metadata": {},
   "outputs": [],
   "source": [
    "# predict on test data\n",
    "y_pred <- predict(model, newdata = test_set)"
   ]
  },
  {
   "cell_type": "markdown",
   "id": "c30aa712",
   "metadata": {},
   "source": [
    "Construct confusion matrix to calculate false negative rate and accuracy"
   ]
  },
  {
   "cell_type": "code",
   "execution_count": 34,
   "id": "7c3932b4",
   "metadata": {},
   "outputs": [],
   "source": [
    "#Confusion matrix \n",
    "cm <- table(test_set$LUNG_CANCER, y_pred)"
   ]
  },
  {
   "cell_type": "code",
   "execution_count": 35,
   "id": "6c69476b",
   "metadata": {},
   "outputs": [
    {
     "data": {
      "text/plain": [
       "     y_pred\n",
       "      NO YES\n",
       "  NO   4   5\n",
       "  YES  2  66"
      ]
     },
     "metadata": {},
     "output_type": "display_data"
    }
   ],
   "source": [
    "cm"
   ]
  },
  {
   "cell_type": "code",
   "execution_count": 36,
   "id": "6f0f3343",
   "metadata": {},
   "outputs": [
    {
     "data": {
      "text/html": [
       "0.0704225352112676"
      ],
      "text/latex": [
       "0.0704225352112676"
      ],
      "text/markdown": [
       "0.0704225352112676"
      ],
      "text/plain": [
       "[1] 0.07042254"
      ]
     },
     "metadata": {},
     "output_type": "display_data"
    }
   ],
   "source": [
    "#false negative rate\n",
    "FNR = cm[1,2]/sum(cm[,2])\n",
    "FNR"
   ]
  },
  {
   "cell_type": "code",
   "execution_count": 37,
   "id": "63cdc96d",
   "metadata": {},
   "outputs": [
    {
     "data": {
      "text/html": [
       "0.909090909090909"
      ],
      "text/latex": [
       "0.909090909090909"
      ],
      "text/markdown": [
       "0.909090909090909"
      ],
      "text/plain": [
       "[1] 0.9090909"
      ]
     },
     "metadata": {},
     "output_type": "display_data"
    }
   ],
   "source": [
    "# accuracy\n",
    "accuracy = (cm[1,1]+cm[2,2])/sum(cm)\n",
    "accuracy"
   ]
  },
  {
   "cell_type": "markdown",
   "id": "c52effbf",
   "metadata": {},
   "source": [
    "## Comparison: Lasso/Ridge vs Naive Bayes"
   ]
  },
  {
   "cell_type": "markdown",
   "id": "ca524c9c",
   "metadata": {},
   "source": [
    "Ridge:<br>\n",
    "Accuracy = 0.913978494623656 = 91.4%<br>\n",
    "False Negative Rate = 0.0116279069767442 = 1.16%\n",
    "\n",
    "Lasso:<br>\n",
    "Accuracy = 0.903225806451613 = 90.32%<br>\n",
    "False Negative Rate = 0.0232558139534884 = 2.33%\n",
    "\n",
    "Naive Bayes:<br>\n",
    "Accuracy = 0.909090909090909 = 90.9%<br>\n",
    "False Negative Rate = 0.0704225352112676 = 7.04%"
   ]
  },
  {
   "cell_type": "markdown",
   "id": "466f66f8",
   "metadata": {},
   "source": [
    "### Final Conclusion:"
   ]
  },
  {
   "cell_type": "markdown",
   "id": "edb6ca53",
   "metadata": {},
   "source": [
    "Ridge Regression seems to have the best prediction model with an accuracy of 91.4% and a false negative rate of 1.16%. When creating a predictive model I would choose to use Ridge regression. It has the highest accuracy and lowest false negative rate. Naive Bayes typically is better but not in this instance. I will show another example with diabetes data and as you can see at the end naive bayes will be better."
   ]
  },
  {
   "cell_type": "markdown",
   "id": "aeeaaca3",
   "metadata": {},
   "source": [
    "# Diabetes Data Set: Ridge Regression\n",
    "https://www.kaggle.com/datasets/akshaydattatraykhare/diabetes-dataset?resource=download\n",
    "\n"
   ]
  },
  {
   "cell_type": "code",
   "execution_count": 38,
   "id": "d1b49540",
   "metadata": {},
   "outputs": [
    {
     "data": {
      "text/html": [
       "<table class=\"dataframe\">\n",
       "<caption>A data.frame: 6 × 9</caption>\n",
       "<thead>\n",
       "\t<tr><th></th><th scope=col>Pregnancies</th><th scope=col>Glucose</th><th scope=col>BloodPressure</th><th scope=col>SkinThickness</th><th scope=col>Insulin</th><th scope=col>BMI</th><th scope=col>DiabetesPedigreeFunction</th><th scope=col>Age</th><th scope=col>Outcome</th></tr>\n",
       "\t<tr><th></th><th scope=col>&lt;int&gt;</th><th scope=col>&lt;int&gt;</th><th scope=col>&lt;int&gt;</th><th scope=col>&lt;int&gt;</th><th scope=col>&lt;int&gt;</th><th scope=col>&lt;dbl&gt;</th><th scope=col>&lt;dbl&gt;</th><th scope=col>&lt;int&gt;</th><th scope=col>&lt;int&gt;</th></tr>\n",
       "</thead>\n",
       "<tbody>\n",
       "\t<tr><th scope=row>1</th><td>6</td><td>148</td><td>72</td><td>35</td><td>  0</td><td>33.6</td><td>0.627</td><td>50</td><td>1</td></tr>\n",
       "\t<tr><th scope=row>2</th><td>1</td><td> 85</td><td>66</td><td>29</td><td>  0</td><td>26.6</td><td>0.351</td><td>31</td><td>0</td></tr>\n",
       "\t<tr><th scope=row>3</th><td>8</td><td>183</td><td>64</td><td> 0</td><td>  0</td><td>23.3</td><td>0.672</td><td>32</td><td>1</td></tr>\n",
       "\t<tr><th scope=row>4</th><td>1</td><td> 89</td><td>66</td><td>23</td><td> 94</td><td>28.1</td><td>0.167</td><td>21</td><td>0</td></tr>\n",
       "\t<tr><th scope=row>5</th><td>0</td><td>137</td><td>40</td><td>35</td><td>168</td><td>43.1</td><td>2.288</td><td>33</td><td>1</td></tr>\n",
       "\t<tr><th scope=row>6</th><td>5</td><td>116</td><td>74</td><td> 0</td><td>  0</td><td>25.6</td><td>0.201</td><td>30</td><td>0</td></tr>\n",
       "</tbody>\n",
       "</table>\n"
      ],
      "text/latex": [
       "A data.frame: 6 × 9\n",
       "\\begin{tabular}{r|lllllllll}\n",
       "  & Pregnancies & Glucose & BloodPressure & SkinThickness & Insulin & BMI & DiabetesPedigreeFunction & Age & Outcome\\\\\n",
       "  & <int> & <int> & <int> & <int> & <int> & <dbl> & <dbl> & <int> & <int>\\\\\n",
       "\\hline\n",
       "\t1 & 6 & 148 & 72 & 35 &   0 & 33.6 & 0.627 & 50 & 1\\\\\n",
       "\t2 & 1 &  85 & 66 & 29 &   0 & 26.6 & 0.351 & 31 & 0\\\\\n",
       "\t3 & 8 & 183 & 64 &  0 &   0 & 23.3 & 0.672 & 32 & 1\\\\\n",
       "\t4 & 1 &  89 & 66 & 23 &  94 & 28.1 & 0.167 & 21 & 0\\\\\n",
       "\t5 & 0 & 137 & 40 & 35 & 168 & 43.1 & 2.288 & 33 & 1\\\\\n",
       "\t6 & 5 & 116 & 74 &  0 &   0 & 25.6 & 0.201 & 30 & 0\\\\\n",
       "\\end{tabular}\n"
      ],
      "text/markdown": [
       "\n",
       "A data.frame: 6 × 9\n",
       "\n",
       "| <!--/--> | Pregnancies &lt;int&gt; | Glucose &lt;int&gt; | BloodPressure &lt;int&gt; | SkinThickness &lt;int&gt; | Insulin &lt;int&gt; | BMI &lt;dbl&gt; | DiabetesPedigreeFunction &lt;dbl&gt; | Age &lt;int&gt; | Outcome &lt;int&gt; |\n",
       "|---|---|---|---|---|---|---|---|---|---|\n",
       "| 1 | 6 | 148 | 72 | 35 |   0 | 33.6 | 0.627 | 50 | 1 |\n",
       "| 2 | 1 |  85 | 66 | 29 |   0 | 26.6 | 0.351 | 31 | 0 |\n",
       "| 3 | 8 | 183 | 64 |  0 |   0 | 23.3 | 0.672 | 32 | 1 |\n",
       "| 4 | 1 |  89 | 66 | 23 |  94 | 28.1 | 0.167 | 21 | 0 |\n",
       "| 5 | 0 | 137 | 40 | 35 | 168 | 43.1 | 2.288 | 33 | 1 |\n",
       "| 6 | 5 | 116 | 74 |  0 |   0 | 25.6 | 0.201 | 30 | 0 |\n",
       "\n"
      ],
      "text/plain": [
       "  Pregnancies Glucose BloodPressure SkinThickness Insulin BMI \n",
       "1 6           148     72            35              0     33.6\n",
       "2 1            85     66            29              0     26.6\n",
       "3 8           183     64             0              0     23.3\n",
       "4 1            89     66            23             94     28.1\n",
       "5 0           137     40            35            168     43.1\n",
       "6 5           116     74             0              0     25.6\n",
       "  DiabetesPedigreeFunction Age Outcome\n",
       "1 0.627                    50  1      \n",
       "2 0.351                    31  0      \n",
       "3 0.672                    32  1      \n",
       "4 0.167                    21  0      \n",
       "5 2.288                    33  1      \n",
       "6 0.201                    30  0      "
      ]
     },
     "metadata": {},
     "output_type": "display_data"
    }
   ],
   "source": [
    "db <- read.csv(file = 'diabetes.csv')\n",
    "head(db)"
   ]
  },
  {
   "cell_type": "markdown",
   "id": "7d2ff743",
   "metadata": {},
   "source": [
    "### Data Cleaning\n",
    "Looking at dimensions of the data set. There is 309 rows and 16 columns. With the column names listed below"
   ]
  },
  {
   "cell_type": "code",
   "execution_count": 39,
   "id": "1db66685",
   "metadata": {},
   "outputs": [
    {
     "data": {
      "text/html": [
       "<style>\n",
       ".list-inline {list-style: none; margin:0; padding: 0}\n",
       ".list-inline>li {display: inline-block}\n",
       ".list-inline>li:not(:last-child)::after {content: \"\\00b7\"; padding: 0 .5ex}\n",
       "</style>\n",
       "<ol class=list-inline><li>768</li><li>9</li></ol>\n"
      ],
      "text/latex": [
       "\\begin{enumerate*}\n",
       "\\item 768\n",
       "\\item 9\n",
       "\\end{enumerate*}\n"
      ],
      "text/markdown": [
       "1. 768\n",
       "2. 9\n",
       "\n",
       "\n"
      ],
      "text/plain": [
       "[1] 768   9"
      ]
     },
     "metadata": {},
     "output_type": "display_data"
    },
    {
     "data": {
      "text/html": [
       "<style>\n",
       ".list-inline {list-style: none; margin:0; padding: 0}\n",
       ".list-inline>li {display: inline-block}\n",
       ".list-inline>li:not(:last-child)::after {content: \"\\00b7\"; padding: 0 .5ex}\n",
       "</style>\n",
       "<ol class=list-inline><li>'Pregnancies'</li><li>'Glucose'</li><li>'BloodPressure'</li><li>'SkinThickness'</li><li>'Insulin'</li><li>'BMI'</li><li>'DiabetesPedigreeFunction'</li><li>'Age'</li><li>'Outcome'</li></ol>\n"
      ],
      "text/latex": [
       "\\begin{enumerate*}\n",
       "\\item 'Pregnancies'\n",
       "\\item 'Glucose'\n",
       "\\item 'BloodPressure'\n",
       "\\item 'SkinThickness'\n",
       "\\item 'Insulin'\n",
       "\\item 'BMI'\n",
       "\\item 'DiabetesPedigreeFunction'\n",
       "\\item 'Age'\n",
       "\\item 'Outcome'\n",
       "\\end{enumerate*}\n"
      ],
      "text/markdown": [
       "1. 'Pregnancies'\n",
       "2. 'Glucose'\n",
       "3. 'BloodPressure'\n",
       "4. 'SkinThickness'\n",
       "5. 'Insulin'\n",
       "6. 'BMI'\n",
       "7. 'DiabetesPedigreeFunction'\n",
       "8. 'Age'\n",
       "9. 'Outcome'\n",
       "\n",
       "\n"
      ],
      "text/plain": [
       "[1] \"Pregnancies\"              \"Glucose\"                 \n",
       "[3] \"BloodPressure\"            \"SkinThickness\"           \n",
       "[5] \"Insulin\"                  \"BMI\"                     \n",
       "[7] \"DiabetesPedigreeFunction\" \"Age\"                     \n",
       "[9] \"Outcome\"                 "
      ]
     },
     "metadata": {},
     "output_type": "display_data"
    }
   ],
   "source": [
    "dim(db)\n",
    "colnames(db)"
   ]
  },
  {
   "cell_type": "markdown",
   "id": "5f455496",
   "metadata": {},
   "source": [
    "Information about dataset attributes -\n",
    "\n",
    "Pregnancies: To express the Number of pregnancies\n",
    "\n",
    "Glucose: To express the Glucose level in blood\n",
    "\n",
    "BloodPressure: To express the Blood pressure measurement\n",
    "\n",
    "SkinThickness: To express the thickness of the skin\n",
    "\n",
    "Insulin: To express the Insulin level in blood\n",
    "\n",
    "BMI: To express the Body mass index\n",
    "\n",
    "DiabetesPedigreeFunction: To express the Diabetes percentage\n",
    "\n",
    "Age: To express the age\n",
    "\n",
    "Outcome: To express the final result 1 is Yes and 0 is No\n",
    "\n",
    "--------------------------------------------------------------------"
   ]
  },
  {
   "cell_type": "markdown",
   "id": "40987631",
   "metadata": {},
   "source": [
    "Checking for NA entries in the data set. After looking there is 0 NA's in the data set."
   ]
  },
  {
   "cell_type": "code",
   "execution_count": 40,
   "id": "fd4bcf2f",
   "metadata": {},
   "outputs": [
    {
     "data": {
      "text/html": [
       "0"
      ],
      "text/latex": [
       "0"
      ],
      "text/markdown": [
       "0"
      ],
      "text/plain": [
       "[1] 0"
      ]
     },
     "metadata": {},
     "output_type": "display_data"
    }
   ],
   "source": [
    "sum(is.na(db))"
   ]
  },
  {
   "cell_type": "code",
   "execution_count": 41,
   "id": "4a3284df",
   "metadata": {},
   "outputs": [
    {
     "data": {
      "text/html": [
       "<table class=\"dataframe\">\n",
       "<caption>A data.frame: 6 × 9</caption>\n",
       "<thead>\n",
       "\t<tr><th></th><th scope=col>Pregnancies</th><th scope=col>Glucose</th><th scope=col>BloodPressure</th><th scope=col>SkinThickness</th><th scope=col>Insulin</th><th scope=col>BMI</th><th scope=col>DiabetesPedigreeFunction</th><th scope=col>Age</th><th scope=col>Outcome</th></tr>\n",
       "\t<tr><th></th><th scope=col>&lt;int&gt;</th><th scope=col>&lt;int&gt;</th><th scope=col>&lt;int&gt;</th><th scope=col>&lt;int&gt;</th><th scope=col>&lt;int&gt;</th><th scope=col>&lt;dbl&gt;</th><th scope=col>&lt;dbl&gt;</th><th scope=col>&lt;int&gt;</th><th scope=col>&lt;chr&gt;</th></tr>\n",
       "</thead>\n",
       "<tbody>\n",
       "\t<tr><th scope=row>1</th><td>6</td><td>148</td><td>72</td><td>35</td><td>  0</td><td>33.6</td><td>0.627</td><td>50</td><td>Yes</td></tr>\n",
       "\t<tr><th scope=row>2</th><td>1</td><td> 85</td><td>66</td><td>29</td><td>  0</td><td>26.6</td><td>0.351</td><td>31</td><td>No </td></tr>\n",
       "\t<tr><th scope=row>3</th><td>8</td><td>183</td><td>64</td><td> 0</td><td>  0</td><td>23.3</td><td>0.672</td><td>32</td><td>Yes</td></tr>\n",
       "\t<tr><th scope=row>4</th><td>1</td><td> 89</td><td>66</td><td>23</td><td> 94</td><td>28.1</td><td>0.167</td><td>21</td><td>No </td></tr>\n",
       "\t<tr><th scope=row>5</th><td>0</td><td>137</td><td>40</td><td>35</td><td>168</td><td>43.1</td><td>2.288</td><td>33</td><td>Yes</td></tr>\n",
       "\t<tr><th scope=row>6</th><td>5</td><td>116</td><td>74</td><td> 0</td><td>  0</td><td>25.6</td><td>0.201</td><td>30</td><td>No </td></tr>\n",
       "</tbody>\n",
       "</table>\n"
      ],
      "text/latex": [
       "A data.frame: 6 × 9\n",
       "\\begin{tabular}{r|lllllllll}\n",
       "  & Pregnancies & Glucose & BloodPressure & SkinThickness & Insulin & BMI & DiabetesPedigreeFunction & Age & Outcome\\\\\n",
       "  & <int> & <int> & <int> & <int> & <int> & <dbl> & <dbl> & <int> & <chr>\\\\\n",
       "\\hline\n",
       "\t1 & 6 & 148 & 72 & 35 &   0 & 33.6 & 0.627 & 50 & Yes\\\\\n",
       "\t2 & 1 &  85 & 66 & 29 &   0 & 26.6 & 0.351 & 31 & No \\\\\n",
       "\t3 & 8 & 183 & 64 &  0 &   0 & 23.3 & 0.672 & 32 & Yes\\\\\n",
       "\t4 & 1 &  89 & 66 & 23 &  94 & 28.1 & 0.167 & 21 & No \\\\\n",
       "\t5 & 0 & 137 & 40 & 35 & 168 & 43.1 & 2.288 & 33 & Yes\\\\\n",
       "\t6 & 5 & 116 & 74 &  0 &   0 & 25.6 & 0.201 & 30 & No \\\\\n",
       "\\end{tabular}\n"
      ],
      "text/markdown": [
       "\n",
       "A data.frame: 6 × 9\n",
       "\n",
       "| <!--/--> | Pregnancies &lt;int&gt; | Glucose &lt;int&gt; | BloodPressure &lt;int&gt; | SkinThickness &lt;int&gt; | Insulin &lt;int&gt; | BMI &lt;dbl&gt; | DiabetesPedigreeFunction &lt;dbl&gt; | Age &lt;int&gt; | Outcome &lt;chr&gt; |\n",
       "|---|---|---|---|---|---|---|---|---|---|\n",
       "| 1 | 6 | 148 | 72 | 35 |   0 | 33.6 | 0.627 | 50 | Yes |\n",
       "| 2 | 1 |  85 | 66 | 29 |   0 | 26.6 | 0.351 | 31 | No  |\n",
       "| 3 | 8 | 183 | 64 |  0 |   0 | 23.3 | 0.672 | 32 | Yes |\n",
       "| 4 | 1 |  89 | 66 | 23 |  94 | 28.1 | 0.167 | 21 | No  |\n",
       "| 5 | 0 | 137 | 40 | 35 | 168 | 43.1 | 2.288 | 33 | Yes |\n",
       "| 6 | 5 | 116 | 74 |  0 |   0 | 25.6 | 0.201 | 30 | No  |\n",
       "\n"
      ],
      "text/plain": [
       "  Pregnancies Glucose BloodPressure SkinThickness Insulin BMI \n",
       "1 6           148     72            35              0     33.6\n",
       "2 1            85     66            29              0     26.6\n",
       "3 8           183     64             0              0     23.3\n",
       "4 1            89     66            23             94     28.1\n",
       "5 0           137     40            35            168     43.1\n",
       "6 5           116     74             0              0     25.6\n",
       "  DiabetesPedigreeFunction Age Outcome\n",
       "1 0.627                    50  Yes    \n",
       "2 0.351                    31  No     \n",
       "3 0.672                    32  Yes    \n",
       "4 0.167                    21  No     \n",
       "5 2.288                    33  Yes    \n",
       "6 0.201                    30  No     "
      ]
     },
     "metadata": {},
     "output_type": "display_data"
    }
   ],
   "source": [
    "db$Outcome <- as.character(db$Outcome)\n",
    "db$Outcome[db$Outcome == '1'] <- 'Yes'\n",
    "db$Outcome[db$Outcome == '0'] <- 'No'\n",
    "head(db)"
   ]
  },
  {
   "cell_type": "markdown",
   "id": "884ddeac",
   "metadata": {},
   "source": [
    "### Age Distribution\n",
    "As shownn in the histogram of Age in the Diabetes Data. The data only looks at ages 20 to 70 with a focus at younger people. Age range focus looked to be 20-35."
   ]
  },
  {
   "cell_type": "code",
   "execution_count": 42,
   "id": "c395f952",
   "metadata": {},
   "outputs": [
    {
     "data": {
      "image/png": "[encoded data removed]",
      "text/plain": [
       "plot without title"
      ]
     },
     "metadata": {
      "image/png": {
       "height": 420,
       "width": 420
      }
     },
     "output_type": "display_data"
    }
   ],
   "source": [
    "ggplot(db, aes(x=Age)) + geom_histogram(bins=30) + ggtitle(\"Distribtuion of Age\") "
   ]
  },
  {
   "cell_type": "markdown",
   "id": "35ee9c64",
   "metadata": {},
   "source": [
    "### Train-Test Split\n",
    "\n",
    "I split the dataset into training and testing data at the ration 70/30. These two new data frame will be called train and test. Proportions are shown below to check."
   ]
  },
  {
   "cell_type": "code",
   "execution_count": 43,
   "id": "83f22fe4",
   "metadata": {},
   "outputs": [
    {
     "data": {
      "text/html": [
       "<style>\n",
       ".list-inline {list-style: none; margin:0; padding: 0}\n",
       ".list-inline>li {display: inline-block}\n",
       ".list-inline>li:not(:last-child)::after {content: \"\\00b7\"; padding: 0 .5ex}\n",
       "</style>\n",
       "<ol class=list-inline><li>537</li><li>9</li></ol>\n"
      ],
      "text/latex": [
       "\\begin{enumerate*}\n",
       "\\item 537\n",
       "\\item 9\n",
       "\\end{enumerate*}\n"
      ],
      "text/markdown": [
       "1. 537\n",
       "2. 9\n",
       "\n",
       "\n"
      ],
      "text/plain": [
       "[1] 537   9"
      ]
     },
     "metadata": {},
     "output_type": "display_data"
    },
    {
     "data": {
      "text/plain": [
       "[1] proportion of train data: 0.69921875"
      ]
     },
     "metadata": {},
     "output_type": "display_data"
    },
    {
     "data": {
      "text/plain": [
       "[1] proportion of test data: 0.30078125"
      ]
     },
     "metadata": {},
     "output_type": "display_data"
    }
   ],
   "source": [
    "set.seed(1234)\n",
    "trainidx = sample(1:nrow(db),size=0.7*nrow(db),replace=FALSE)\n",
    "\n",
    "\n",
    "train = db[trainidx, ]\n",
    "test = db[-trainidx, ]\n",
    "\n",
    "dim(train) #see the dimensions of train data frame\n",
    "\n",
    "#check the proportions 70%-30% of data taken into the train and test data frames\n",
    "noquote(paste(\"proportion of train data:\",nrow(train)/nrow(db)))\n",
    "noquote(paste(\"proportion of test data:\",nrow(test)/nrow(db)))"
   ]
  },
  {
   "cell_type": "markdown",
   "id": "bf4f3267",
   "metadata": {},
   "source": [
    "Response vector y and predictor matrix X from diabetes without outcome variable"
   ]
  },
  {
   "cell_type": "code",
   "execution_count": 44,
   "id": "4163a937",
   "metadata": {},
   "outputs": [
    {
     "data": {
      "text/html": [
       "<style>\n",
       ".list-inline {list-style: none; margin:0; padding: 0}\n",
       ".list-inline>li {display: inline-block}\n",
       ".list-inline>li:not(:last-child)::after {content: \"\\00b7\"; padding: 0 .5ex}\n",
       "</style>\n",
       "<ol class=list-inline><li>537</li><li>8</li></ol>\n"
      ],
      "text/latex": [
       "\\begin{enumerate*}\n",
       "\\item 537\n",
       "\\item 8\n",
       "\\end{enumerate*}\n"
      ],
      "text/markdown": [
       "1. 537\n",
       "2. 8\n",
       "\n",
       "\n"
      ],
      "text/plain": [
       "[1] 537   8"
      ]
     },
     "metadata": {},
     "output_type": "display_data"
    }
   ],
   "source": [
    "y = train$Outcome\n",
    "X = train[ ,!(names(train) %in% c(\"Outcome\"))] #all but Lung cancer variable\n",
    "dim(X)"
   ]
  },
  {
   "cell_type": "markdown",
   "id": "7f876e07",
   "metadata": {},
   "source": [
    "Predictor matrix X is actually an R data frame. In order to use it in the cv.glmnet() function from glmnet library, I convert it into an R matrix object"
   ]
  },
  {
   "cell_type": "code",
   "execution_count": 45,
   "id": "2cb9d9de",
   "metadata": {},
   "outputs": [
    {
     "data": {
      "text/html": [
       "<style>\n",
       ".list-inline {list-style: none; margin:0; padding: 0}\n",
       ".list-inline>li {display: inline-block}\n",
       ".list-inline>li:not(:last-child)::after {content: \"\\00b7\"; padding: 0 .5ex}\n",
       "</style>\n",
       "<ol class=list-inline><li>537</li><li>8</li></ol>\n"
      ],
      "text/latex": [
       "\\begin{enumerate*}\n",
       "\\item 537\n",
       "\\item 8\n",
       "\\end{enumerate*}\n"
      ],
      "text/markdown": [
       "1. 537\n",
       "2. 8\n",
       "\n",
       "\n"
      ],
      "text/plain": [
       "[1] 537   8"
      ]
     },
     "metadata": {},
     "output_type": "display_data"
    },
    {
     "data": {
      "text/html": [
       "<table class=\"dataframe\">\n",
       "<caption>A matrix: 5 × 8 of type dbl</caption>\n",
       "<thead>\n",
       "\t<tr><th></th><th scope=col>Pregnancies</th><th scope=col>Glucose</th><th scope=col>BloodPressure</th><th scope=col>SkinThickness</th><th scope=col>Insulin</th><th scope=col>BMI</th><th scope=col>DiabetesPedigreeFunction</th><th scope=col>Age</th></tr>\n",
       "</thead>\n",
       "<tbody>\n",
       "\t<tr><th scope=row>284</th><td>7</td><td>161</td><td>86</td><td> 0</td><td>  0</td><td>30.4</td><td>0.165</td><td>47</td></tr>\n",
       "\t<tr><th scope=row>101</th><td>1</td><td>163</td><td>72</td><td> 0</td><td>  0</td><td>39.0</td><td>1.222</td><td>33</td></tr>\n",
       "\t<tr><th scope=row>623</th><td>6</td><td>183</td><td>94</td><td> 0</td><td>  0</td><td>40.8</td><td>1.461</td><td>45</td></tr>\n",
       "\t<tr><th scope=row>645</th><td>3</td><td>103</td><td>72</td><td>30</td><td>152</td><td>27.6</td><td>0.730</td><td>27</td></tr>\n",
       "\t<tr><th scope=row>400</th><td>3</td><td>193</td><td>70</td><td>31</td><td>  0</td><td>34.9</td><td>0.241</td><td>25</td></tr>\n",
       "</tbody>\n",
       "</table>\n"
      ],
      "text/latex": [
       "A matrix: 5 × 8 of type dbl\n",
       "\\begin{tabular}{r|llllllll}\n",
       "  & Pregnancies & Glucose & BloodPressure & SkinThickness & Insulin & BMI & DiabetesPedigreeFunction & Age\\\\\n",
       "\\hline\n",
       "\t284 & 7 & 161 & 86 &  0 &   0 & 30.4 & 0.165 & 47\\\\\n",
       "\t101 & 1 & 163 & 72 &  0 &   0 & 39.0 & 1.222 & 33\\\\\n",
       "\t623 & 6 & 183 & 94 &  0 &   0 & 40.8 & 1.461 & 45\\\\\n",
       "\t645 & 3 & 103 & 72 & 30 & 152 & 27.6 & 0.730 & 27\\\\\n",
       "\t400 & 3 & 193 & 70 & 31 &   0 & 34.9 & 0.241 & 25\\\\\n",
       "\\end{tabular}\n"
      ],
      "text/markdown": [
       "\n",
       "A matrix: 5 × 8 of type dbl\n",
       "\n",
       "| <!--/--> | Pregnancies | Glucose | BloodPressure | SkinThickness | Insulin | BMI | DiabetesPedigreeFunction | Age |\n",
       "|---|---|---|---|---|---|---|---|---|\n",
       "| 284 | 7 | 161 | 86 |  0 |   0 | 30.4 | 0.165 | 47 |\n",
       "| 101 | 1 | 163 | 72 |  0 |   0 | 39.0 | 1.222 | 33 |\n",
       "| 623 | 6 | 183 | 94 |  0 |   0 | 40.8 | 1.461 | 45 |\n",
       "| 645 | 3 | 103 | 72 | 30 | 152 | 27.6 | 0.730 | 27 |\n",
       "| 400 | 3 | 193 | 70 | 31 |   0 | 34.9 | 0.241 | 25 |\n",
       "\n"
      ],
      "text/plain": [
       "    Pregnancies Glucose BloodPressure SkinThickness Insulin BMI \n",
       "284 7           161     86             0              0     30.4\n",
       "101 1           163     72             0              0     39.0\n",
       "623 6           183     94             0              0     40.8\n",
       "645 3           103     72            30            152     27.6\n",
       "400 3           193     70            31              0     34.9\n",
       "    DiabetesPedigreeFunction Age\n",
       "284 0.165                    47 \n",
       "101 1.222                    33 \n",
       "623 1.461                    45 \n",
       "645 0.730                    27 \n",
       "400 0.241                    25 "
      ]
     },
     "metadata": {},
     "output_type": "display_data"
    }
   ],
   "source": [
    "X = model.matrix( ~ . , data=X)[,-1]\n",
    "\n",
    "dim(X)\n",
    "\n",
    "X[1:5,]"
   ]
  },
  {
   "cell_type": "code",
   "execution_count": 46,
   "id": "b7b1767e",
   "metadata": {},
   "outputs": [
    {
     "data": {
      "image/png": "[encoded data removed]",
      "text/plain": [
       "plot without title"
      ]
     },
     "metadata": {
      "image/png": {
       "height": 420,
       "width": 420
      }
     },
     "output_type": "display_data"
    }
   ],
   "source": [
    "#setting lambda grid manually\n",
    "mylambda=seq(0,0.109,by=0.0005) \n",
    "\n",
    "#Here, we use deviance as a measure performance.\n",
    "\n",
    "#by default, for logistic regression, type.measure is \"deviance\"\n",
    "cvfit = cv.glmnet(X,y,family = \"binomial\",lambda=mylambda,type.measure=\"deviance\",\n",
    "                  nfolds = 10, alpha = 0)  #alpha- ridge:0, lasso:1\n",
    "#plot Ridge based on deviance\n",
    "plot(cvfit)  #note on x-axis in the plot is log(lambda), not log(1/lambda)"
   ]
  },
  {
   "cell_type": "code",
   "execution_count": 47,
   "id": "4bdab940",
   "metadata": {},
   "outputs": [
    {
     "data": {
      "text/plain": [
       "9 x 1 sparse Matrix of class \"dgCMatrix\"\n",
       "                                    s1\n",
       "(Intercept)              -5.6526525924\n",
       "Pregnancies               0.0636242152\n",
       "Glucose                   0.0193515572\n",
       "BloodPressure            -0.0012595930\n",
       "SkinThickness             0.0016650297\n",
       "Insulin                   0.0001013618\n",
       "BMI                       0.0445465218\n",
       "DiabetesPedigreeFunction  0.5349574387\n",
       "Age                       0.0183256014"
      ]
     },
     "metadata": {},
     "output_type": "display_data"
    }
   ],
   "source": [
    "coef(cvfit)"
   ]
  },
  {
   "cell_type": "code",
   "execution_count": 48,
   "id": "8b262dc7",
   "metadata": {},
   "outputs": [
    {
     "data": {
      "text/html": [
       "0.012"
      ],
      "text/latex": [
       "0.012"
      ],
      "text/markdown": [
       "0.012"
      ],
      "text/plain": [
       "[1] 0.012"
      ]
     },
     "metadata": {},
     "output_type": "display_data"
    },
    {
     "data": {
      "text/html": [
       "0.109"
      ],
      "text/latex": [
       "0.109"
      ],
      "text/markdown": [
       "0.109"
      ],
      "text/plain": [
       "[1] 0.109"
      ]
     },
     "metadata": {},
     "output_type": "display_data"
    }
   ],
   "source": [
    "#the value of optimal lambda that minimizes loss\n",
    "cvfit$lambda.min\n",
    "\n",
    "#the value of optimal lambda by the 1SE rule\n",
    "cvfit$lambda.1se"
   ]
  },
  {
   "cell_type": "markdown",
   "id": "fe504920",
   "metadata": {},
   "source": [
    "### Predicting on Test Data"
   ]
  },
  {
   "cell_type": "code",
   "execution_count": 49,
   "id": "4c9a37b5",
   "metadata": {},
   "outputs": [
    {
     "data": {
      "text/html": [
       "231"
      ],
      "text/latex": [
       "231"
      ],
      "text/markdown": [
       "231"
      ],
      "text/plain": [
       "[1] 231"
      ]
     },
     "metadata": {},
     "output_type": "display_data"
    },
    {
     "data": {
      "text/html": [
       "<style>\n",
       ".list-inline {list-style: none; margin:0; padding: 0}\n",
       ".list-inline>li {display: inline-block}\n",
       ".list-inline>li:not(:last-child)::after {content: \"\\00b7\"; padding: 0 .5ex}\n",
       "</style>\n",
       "<ol class=list-inline><li>231</li><li>8</li></ol>\n"
      ],
      "text/latex": [
       "\\begin{enumerate*}\n",
       "\\item 231\n",
       "\\item 8\n",
       "\\end{enumerate*}\n"
      ],
      "text/markdown": [
       "1. 231\n",
       "2. 8\n",
       "\n",
       "\n"
      ],
      "text/plain": [
       "[1] 231   8"
      ]
     },
     "metadata": {},
     "output_type": "display_data"
    }
   ],
   "source": [
    "ytest = test$Outcome\n",
    "Xtest = test[ ,!(names(test) %in% c(\"Outcome\"))] \n",
    "\n",
    "Xtest = model.matrix( ~ ., data=Xtest)[,-1]\n",
    "pihat = predict(object=cvfit, newx = Xtest, type=\"response\")\n",
    "\n",
    "length(pihat)\n",
    "dim(Xtest)"
   ]
  },
  {
   "cell_type": "markdown",
   "id": "ebd3c129",
   "metadata": {},
   "source": [
    "### Measure Performance:"
   ]
  },
  {
   "cell_type": "code",
   "execution_count": 50,
   "id": "97441e7c",
   "metadata": {},
   "outputs": [
    {
     "name": "stderr",
     "output_type": "stream",
     "text": [
      "Setting levels: control = FALSE, case = TRUE\n",
      "\n",
      "Warning message in roc.default(response = ylogical, predictor = pihat):\n",
      "“Deprecated use a matrix as predictor. Unexpected results may be produced, please pass a numeric vector.”\n",
      "Setting direction: controls < cases\n",
      "\n"
     ]
    },
    {
     "data": {
      "image/png": "[encoded data removed]",
      "text/plain": [
       "Plot with title “AUC =  0.81”"
      ]
     },
     "metadata": {
      "image/png": {
       "height": 420,
       "width": 420
      }
     },
     "output_type": "display_data"
    }
   ],
   "source": [
    "ylogical = (ytest == \"Yes\")\n",
    "ROCcrv = roc(response=ylogical, predictor=pihat)\n",
    "AUC = auc(ROCcrv)\n",
    "\n",
    "plot(x=ROCcrv$specificities,y=ROCcrv$sensitivities, main=paste(\"AUC = \",round(AUC,2)), \n",
    "     xlab=\"Specificity\", ylab=\"Sensitivity\", xlim=c(1,0), type=\"l\", col=\"red\")\n",
    "abline(a=1,b=-1,lty=\"dashed\") #the diagonal line\n"
   ]
  },
  {
   "cell_type": "markdown",
   "id": "afd7a612",
   "metadata": {},
   "source": [
    "This ROC curve is good but isn't great compared to the ones from the lung cancer data. Area under the curve is 0.81 so it is acceptable but barely."
   ]
  },
  {
   "cell_type": "code",
   "execution_count": 51,
   "id": "bdb004ba",
   "metadata": {},
   "outputs": [
    {
     "data": {
      "text/html": [
       "0.81294964028777"
      ],
      "text/latex": [
       "0.81294964028777"
      ],
      "text/markdown": [
       "0.81294964028777"
      ],
      "text/plain": [
       "Area under the curve: 0.8129"
      ]
     },
     "metadata": {},
     "output_type": "display_data"
    }
   ],
   "source": [
    "AUC"
   ]
  },
  {
   "cell_type": "code",
   "execution_count": 52,
   "id": "96c7b05b",
   "metadata": {},
   "outputs": [],
   "source": [
    "#creating yhat vector based on the rule: yhat=Yes if pihat>0.5; otherwise, yhat=No\n",
    "yhat = ifelse(pihat>0.5,\"Yes\",\"No\")"
   ]
  },
  {
   "cell_type": "code",
   "execution_count": 53,
   "id": "74381783",
   "metadata": {},
   "outputs": [
    {
     "data": {
      "text/plain": [
       "     ytest\n",
       "yhat   No Yes\n",
       "  No  128  49\n",
       "  Yes  11  43"
      ]
     },
     "metadata": {},
     "output_type": "display_data"
    }
   ],
   "source": [
    "tbl = table(yhat, ytest)\n",
    "tbl"
   ]
  },
  {
   "cell_type": "code",
   "execution_count": 54,
   "id": "7d72f925",
   "metadata": {},
   "outputs": [
    {
     "data": {
      "text/html": [
       "0.74025974025974"
      ],
      "text/latex": [
       "0.74025974025974"
      ],
      "text/markdown": [
       "0.74025974025974"
      ],
      "text/plain": [
       "[1] 0.7402597"
      ]
     },
     "metadata": {},
     "output_type": "display_data"
    }
   ],
   "source": [
    "# accuracy \n",
    "(tbl[1,1]+tbl[2,2])/sum(tbl)"
   ]
  },
  {
   "cell_type": "code",
   "execution_count": 55,
   "id": "4f491ef3",
   "metadata": {},
   "outputs": [
    {
     "data": {
      "text/html": [
       "0.532608695652174"
      ],
      "text/latex": [
       "0.532608695652174"
      ],
      "text/markdown": [
       "0.532608695652174"
      ],
      "text/plain": [
       "[1] 0.5326087"
      ]
     },
     "metadata": {},
     "output_type": "display_data"
    }
   ],
   "source": [
    "# false negative rate\n",
    "tbl[1,2]/sum(tbl[,2])"
   ]
  },
  {
   "cell_type": "markdown",
   "id": "d467dcc5",
   "metadata": {},
   "source": [
    "## Naive Bayes Diabetes:"
   ]
  },
  {
   "cell_type": "code",
   "execution_count": 56,
   "id": "e4adf6ab",
   "metadata": {},
   "outputs": [
    {
     "name": "stdout",
     "output_type": "stream",
     "text": [
      "[1] \"Dimensions of test_set:\"\n"
     ]
    },
    {
     "data": {
      "text/html": [
       "<style>\n",
       ".list-inline {list-style: none; margin:0; padding: 0}\n",
       ".list-inline>li {display: inline-block}\n",
       ".list-inline>li:not(:last-child)::after {content: \"\\00b7\"; padding: 0 .5ex}\n",
       "</style>\n",
       "<ol class=list-inline><li>171</li><li>9</li></ol>\n"
      ],
      "text/latex": [
       "\\begin{enumerate*}\n",
       "\\item 171\n",
       "\\item 9\n",
       "\\end{enumerate*}\n"
      ],
      "text/markdown": [
       "1. 171\n",
       "2. 9\n",
       "\n",
       "\n"
      ],
      "text/plain": [
       "[1] 171   9"
      ]
     },
     "metadata": {},
     "output_type": "display_data"
    },
    {
     "name": "stdout",
     "output_type": "stream",
     "text": [
      "[1] \"Dimensions of train_set:\"\n"
     ]
    },
    {
     "data": {
      "text/html": [
       "<style>\n",
       ".list-inline {list-style: none; margin:0; padding: 0}\n",
       ".list-inline>li {display: inline-block}\n",
       ".list-inline>li:not(:last-child)::after {content: \"\\00b7\"; padding: 0 .5ex}\n",
       "</style>\n",
       "<ol class=list-inline><li>597</li><li>9</li></ol>\n"
      ],
      "text/latex": [
       "\\begin{enumerate*}\n",
       "\\item 597\n",
       "\\item 9\n",
       "\\end{enumerate*}\n"
      ],
      "text/markdown": [
       "1. 597\n",
       "2. 9\n",
       "\n",
       "\n"
      ],
      "text/plain": [
       "[1] 597   9"
      ]
     },
     "metadata": {},
     "output_type": "display_data"
    }
   ],
   "source": [
    "split <- sample.split(db, SplitRatio = 0.8)  #split data by 80% and 20%\n",
    "train_set <- subset(db, split == \"TRUE\")\n",
    "test_set <- subset(db, split == \"FALSE\")\n",
    "\n",
    "rownames(train_set) <- 1:nrow(train_set)    # reset indices of train_set\n",
    "rownames(test_set) <- 1:nrow(test_set)    #reset indices of test_set\n",
    "\n",
    "print(\"Dimensions of test_set:\")\n",
    "dim(test_set)\n",
    "print(\"Dimensions of train_set:\")\n",
    "dim(train_set)"
   ]
  },
  {
   "cell_type": "code",
   "execution_count": 57,
   "id": "2cfd84d0",
   "metadata": {},
   "outputs": [],
   "source": [
    "testX = test_set[1:8] #test data all by outcome variable\n",
    "testy = test_set$Outcome # only outcome variable"
   ]
  },
  {
   "cell_type": "code",
   "execution_count": 58,
   "id": "fe8060e8",
   "metadata": {},
   "outputs": [],
   "source": [
    "# model using naive bayes\n",
    "# fit on training data, \n",
    "model = naiveBayes(Outcome~.,data=train_set) "
   ]
  },
  {
   "cell_type": "code",
   "execution_count": 59,
   "id": "b5005fe8",
   "metadata": {},
   "outputs": [
    {
     "name": "stderr",
     "output_type": "stream",
     "text": [
      "Warning message in data.matrix(newdata):\n",
      "“NAs introduced by coercion”\n"
     ]
    }
   ],
   "source": [
    "#predict on test data\n",
    "y_pred <- predict(model, newdata = test_set)"
   ]
  },
  {
   "cell_type": "code",
   "execution_count": 60,
   "id": "f86799a7",
   "metadata": {},
   "outputs": [
    {
     "data": {
      "text/plain": [
       "     y_pred\n",
       "      No Yes\n",
       "  No  89  15\n",
       "  Yes 30  37"
      ]
     },
     "metadata": {},
     "output_type": "display_data"
    }
   ],
   "source": [
    "#Confusion matrix \n",
    "cm <- table(test_set$Outcome, y_pred)\n",
    "cm"
   ]
  },
  {
   "cell_type": "code",
   "execution_count": 61,
   "id": "70d96073",
   "metadata": {},
   "outputs": [
    {
     "data": {
      "text/html": [
       "0.288461538461538"
      ],
      "text/latex": [
       "0.288461538461538"
      ],
      "text/markdown": [
       "0.288461538461538"
      ],
      "text/plain": [
       "[1] 0.2884615"
      ]
     },
     "metadata": {},
     "output_type": "display_data"
    }
   ],
   "source": [
    "FNR = cm[1,2]/sum(cm[,2])\n",
    "FNR"
   ]
  },
  {
   "cell_type": "code",
   "execution_count": 62,
   "id": "71fbe64b",
   "metadata": {},
   "outputs": [
    {
     "data": {
      "text/html": [
       "0.736842105263158"
      ],
      "text/latex": [
       "0.736842105263158"
      ],
      "text/markdown": [
       "0.736842105263158"
      ],
      "text/plain": [
       "[1] 0.7368421"
      ]
     },
     "metadata": {},
     "output_type": "display_data"
    }
   ],
   "source": [
    "accuracy = (cm[1,1]+cm[2,2])/sum(cm)\n",
    "accuracy"
   ]
  },
  {
   "cell_type": "markdown",
   "id": "6b9aed29",
   "metadata": {},
   "source": [
    "# Comparison:\n",
    "Ridge Regression is by far worse then Naive Bayes for the Diabetes data set. <br>\n",
    "\n",
    "Ridge:<br>\n",
    "Accuracy = 0.74025974025974<br>\n",
    "False Negative Rate = 0.532608695652174\n",
    "\n",
    "Naive Bayes:<br>\n",
    "Accuracy = 0.736842105263158<br>\n",
    "False Negative Rate = 0.288461538461538"
   ]
  },
  {
   "cell_type": "markdown",
   "id": "0121011f",
   "metadata": {},
   "source": [
    "### Final Result \n",
    "I would choose naive bayes for my model t predict here since a false negative rate of 50% is pretty bad. Naive bayes is accuracy is a little lower but the false negative is way down."
   ]
  },
  {
   "cell_type": "markdown",
   "id": "321f8c89",
   "metadata": {},
   "source": [
    "### Works Citied:\n",
    "HW3 from class helped a lot in this project and HW1 using naive bayes"
   ]
  },
  {
   "cell_type": "code",
   "execution_count": null,
   "id": "ca455c10",
   "metadata": {},
   "outputs": [],
   "source": []
  }
 ],
 "metadata": {
  "kernelspec": {
   "display_name": "R",
   "language": "R",
   "name": "ir"
  },
  "language_info": {
   "codemirror_mode": "r",
   "file_extension": ".r",
   "mimetype": "text/x-r-source",
   "name": "R",
   "pygments_lexer": "r",
   "version": "3.6.3"
  }
 },
 "nbformat": 4,
 "nbformat_minor": 5
}
